{
 "cells": [
  {
   "cell_type": "markdown",
   "metadata": {
    "application/vnd.databricks.v1+cell": {
     "cellMetadata": {},
     "inputWidgets": {},
     "nuid": "1ebcf2b5-b9de-4bb2-b925-63e73a4557db",
     "showTitle": false,
     "title": ""
    }
   },
   "source": [
    "# Portfolio Optimization with Monte Carlo Simulation and Modern Portfolio Theory"
   ]
  },
  {
   "cell_type": "markdown",
   "metadata": {
    "application/vnd.databricks.v1+cell": {
     "cellMetadata": {},
     "inputWidgets": {},
     "nuid": "0ca4f33e-035e-4c9d-83b4-020b2dbfc666",
     "showTitle": false,
     "title": ""
    }
   },
   "source": [
    "## Abstract\n",
    "The project involves utilizing Monte Carlo simulation and Modern Portfolio Theory (MPT) to determine the optimal weights of stocks in a portfolio. The goal is to construct an efficient frontier using historical stock data and MPT, allowing for maximized returns while minimizing risks. A Monte Carlo simulation will be performed to test various stock weights in the portfolio of specific stocks in order to find the optimal allocation."
   ]
  },
  {
   "cell_type": "markdown",
   "metadata": {
    "application/vnd.databricks.v1+cell": {
     "cellMetadata": {},
     "inputWidgets": {},
     "nuid": "84629a00-c533-4ea3-b107-359e5a3962d3",
     "showTitle": false,
     "title": ""
    }
   },
   "source": [
    "## Introduction\n",
    "\n",
    "Modern Portfolio Theory (MPT) is a theory of investment that aims to maximize expected return while minimizing risk by carefully choosing the proportion of various assets in a portfolio. At its core, MPT provides a quantitative approach to the concept of diversification that aims to help investors achieve their financial goals by constructing portfolios that balance risk and reward.\n",
    "\n",
    "**Advantages of Modern Portfolio Theory:**\n",
    "\n",
    "By diversifying investments across multiple asset classes, MPT aims to optimize the risk-return tradeoff of a portfolio, potentially leading to better risk-adjusted returns.\n",
    "MPT encourages investors to assess their risk tolerance, goals, and investment horizon, which can lead to a more structured investment plan.\n",
    "The theory provides a framework for understanding portfolio construction and risk management.\n",
    "\n",
    "**Disadvantages of Modern Portfolio Theory:**\n",
    "\n",
    "MPT relies on statistical data, which can be unreliable and calculated with assumptions that do not match reality.\n",
    "The theory assumes that the returns of assets are normally distributed, which can lead to errors when applied to non-normal asset classes.\n",
    "MPT places a greater emphasis on maximizing returns rather than minimizing losses or considering downside risk, which may not be suitable for all investors.\n",
    "\n",
    "\n",
    "The Efficient Frontier is a key concept in MPT, which defines the set of optimal portfolios that provide the highest expected return for a given level of risk, or the lowest level of risk for a given expected return. This efficient frontier is determined by plotting the expected return of various portfolios against their risk, and then identifying the set of portfolios that have the highest expected return for a given level of risk or the lowest level of risk for a given expected return.\n",
    "\n",
    "Monte Carlo simulation is a mathematical technique used to predict the probability of a range of outcomes when dealing with potential random variables. It involves using computer programs to run random experiments and analyze the results to gain insights into the likelihood of certain outcomes.By simulating a large number of potential market scenarios and running them through the portfolio optimization process such as MPT, the two methods can be combined to identify the most robust and efficient portfolio weights that yield the maximum returns at the lowest risk level."
   ]
  },
  {
   "cell_type": "markdown",
   "metadata": {
    "application/vnd.databricks.v1+cell": {
     "cellMetadata": {},
     "inputWidgets": {},
     "nuid": "e56ed70a-b150-4bff-b1a1-6549cbbe6f48",
     "showTitle": false,
     "title": ""
    }
   },
   "source": [
    "## Implementation"
   ]
  },
  {
   "cell_type": "markdown",
   "metadata": {
    "application/vnd.databricks.v1+cell": {
     "cellMetadata": {},
     "inputWidgets": {},
     "nuid": "a88d0493-8176-4853-9bec-bf705e09ec77",
     "showTitle": false,
     "title": ""
    }
   },
   "source": [
    "### Extract Data\n",
    "Extract data from Financial Modelling Prep API"
   ]
  },
  {
   "cell_type": "code",
   "execution_count": null,
   "metadata": {
    "application/vnd.databricks.v1+cell": {
     "cellMetadata": {
      "byteLimit": 2048000,
      "rowLimit": 10000
     },
     "inputWidgets": {},
     "nuid": "e1ecbcac-7e9f-4b1e-a001-961461cf5cf1",
     "showTitle": false,
     "title": ""
    }
   },
   "outputs": [],
   "source": [
    "%pip install python-dotenv\n",
    "%pip install scipy"
   ]
  },
  {
   "cell_type": "code",
   "execution_count": null,
   "metadata": {
    "application/vnd.databricks.v1+cell": {
     "cellMetadata": {
      "byteLimit": 2048000,
      "rowLimit": 10000
     },
     "inputWidgets": {},
     "nuid": "7fb1eab8-8d42-4c05-b8dd-2146fc2d5e77",
     "showTitle": false,
     "title": ""
    }
   },
   "outputs": [],
   "source": [
    "import os\n",
    "from dotenv import load_dotenv\n",
    "import ssl\n",
    "from urllib.request import urlopen\n",
    "import numpy as np\n",
    "import datetime as dt\n",
    "import pandas as pd\n",
    "import matplotlib.pyplot as plt\n",
    "import datetime as dt\n",
    "import json\n",
    "\n",
    "load_dotenv()\n",
    "API_KEY = os.getenv('API_KEY')\n",
    "base_url = \"https://financialmodelingprep.com/api/v3\""
   ]
  },
  {
   "cell_type": "code",
   "execution_count": null,
   "metadata": {
    "application/vnd.databricks.v1+cell": {
     "cellMetadata": {
      "byteLimit": 2048000,
      "rowLimit": 10000
     },
     "inputWidgets": {},
     "nuid": "c2d50ed5-c2a1-4e2b-93aa-4e4008563cbd",
     "showTitle": false,
     "title": ""
    }
   },
   "outputs": [],
   "source": [
    "def get_jsonparsed_data(url):\n",
    "    \"\"\"\n",
    "    Receive the content of ``url``, parse it as JSON and return the object.\n",
    "\n",
    "    Parameters\n",
    "    ----------\n",
    "    url : str\n",
    "\n",
    "    Returns\n",
    "    -------\n",
    "    dict\n",
    "    \"\"\"\n",
    "    context = ssl.create_default_context()\n",
    "    response = urlopen(url, context=context)\n",
    "    data = response.read().decode(\"utf-8\")\n",
    "    return json.loads(data)\n",
    "\n",
    "def get_historical_price_full(stickers, file_path):\n",
    "    \"\"\"\n",
    "    Extract historical 1yr daily price for stock stickers, and save to json file with file_path\n",
    "\n",
    "    Parameters:\n",
    "      stickers (list): list of stock stickers\n",
    "      file_path (str): json data file\n",
    "\n",
    "    Returns:\n",
    "      Json object of historical stock prices of all stocks in the list\n",
    "    \"\"\"\n",
    "    stickers_str = ','.join(stickers)\n",
    "\n",
    "    url = (f\"{base_url}/historical-price-full/{stickers_str}?apikey={API_KEY}\")\n",
    "\n",
    "    data = get_jsonparsed_data(url)\n",
    "\n",
    "    with open(file_path, \"w\") as f:\n",
    "        if len(stickers) == 1:\n",
    "          json.dump(data, f)   \n",
    "        else:\n",
    "          json.dump(data[\"historicalStockList\"], f)\n",
    "\n",
    "    return data\n",
    "\n",
    "def get_quote(stickers, file_path):\n",
    "    \"\"\"\n",
    "    Extract current price for stock stickers, and save to json file with file_path\n",
    "\n",
    "    Parameters:\n",
    "      stickers (list): list of stock stickers\n",
    "      file_path (str): json data file\n",
    "\n",
    "    Returns:\n",
    "      Json object of historical stock prices of all stocks in the list\n",
    "    \"\"\"\n",
    "    stickers_str = ','.join(stickers)\n",
    "\n",
    "    url = (f\"{base_url}/quote/{stickers_str}?apikey={API_KEY}\")\n",
    "\n",
    "    data = get_jsonparsed_data(url)\n",
    "\n",
    "    with open(file_path, \"w\") as f:\n",
    "        json.dump(data, f)   \n",
    "    return data\n",
    "# data = get_quote(stickers, \"quote.json\")"
   ]
  },
  {
   "cell_type": "markdown",
   "metadata": {
    "application/vnd.databricks.v1+cell": {
     "cellMetadata": {},
     "inputWidgets": {},
     "nuid": "87b77079-b2ef-41fa-9983-79e45d3a1e6d",
     "showTitle": false,
     "title": ""
    }
   },
   "source": [
    "### Process Data"
   ]
  },
  {
   "cell_type": "code",
   "execution_count": 41,
   "metadata": {
    "application/vnd.databricks.v1+cell": {
     "cellMetadata": {
      "byteLimit": 2048000,
      "rowLimit": 10000
     },
     "inputWidgets": {},
     "nuid": "6efea511-5dfc-4f04-8823-9806f960369d",
     "showTitle": false,
     "title": ""
    }
   },
   "outputs": [],
   "source": [
    "def get_json_data(file_path):\n",
    "  # open the JSON file\n",
    "  with open(file_path, 'r') as f:\n",
    "      # load the JSON object into a Python object\n",
    "      json_obj = json.load(f)\n",
    "\n",
    "  columns = list(json_obj[0]['historical'][0].keys())\n",
    "  df = pd.DataFrame(columns=['symbol'] + columns)\n",
    "  for stock in json_obj:\n",
    "    symbol = stock['symbol']\n",
    "    historical = stock['historical']\n",
    "    data = pd.DataFrame(historical, columns=columns)\n",
    "    data.insert(0, 'symbol', symbol)\n",
    "    df = pd.concat([df, data])\n",
    "  return df\n",
    "\n",
    "def get_data(file_path):\n",
    "  \"\"\"\n",
    "  Return a cleaned pandas dataframe of historical full stock price information from json file\n",
    "  \"\"\"\n",
    "  df = pd.read_json(file_path)\n",
    "  # use explode to split a list to multiple rows\n",
    "  explode_df = df.explode('historical')\n",
    "  # use apply and pd.Series to split dictionary column into multiple columns\n",
    "  normalize_df = explode_df['historical'].apply(pd.Series)\n",
    "  # concatenate 'symbol' column to the normalized_df by column (axis=1)\n",
    "  df_final = pd.concat([explode_df['symbol'], normalize_df], axis=1)\n",
    "  return df_final\n"
   ]
  },
  {
   "cell_type": "markdown",
   "metadata": {
    "application/vnd.databricks.v1+cell": {
     "cellMetadata": {},
     "inputWidgets": {},
     "nuid": "f77a38c1-6d28-43d0-beb2-8176da494991",
     "showTitle": false,
     "title": ""
    }
   },
   "source": [
    "### Calculate Portfolio Return with Modern Portfolio Theory"
   ]
  },
  {
   "cell_type": "code",
   "execution_count": 42,
   "metadata": {},
   "outputs": [],
   "source": [
    "def cal_return(df):\n",
    "  \"\"\"\n",
    "  Return a pandas dataframe of adjusted close price for each stock sticker\n",
    "  \"\"\"\n",
    "  pivot_df = df.pivot(index = 'date', columns='symbol', values = 'adjClose')\n",
    "  returns = pivot_df.pct_change()\n",
    "  mean_returns = returns.mean()\n",
    "  cov_matrix = returns.cov()\n",
    "  return pivot_df, mean_returns, cov_matrix\n",
    "  \n",
    "def cal_portfolio_performance(weights, mean_returns, cov_matrix):\n",
    "  \"\"\"\n",
    "  Given porfolio weight, calculate portfolio return and standard deviatzion based on modern portfolio theory\n",
    "  \n",
    "  Parameters: \n",
    "    mean_returns\n",
    "    cov_matrix\n",
    "    weights (numpy array): array of weights for each stock sticker\n",
    "\n",
    "  Returns:\n",
    "    portfolio_return (float):  Sum(mean_returns * weights) * trading_days\n",
    "    porfolio_std (float):  weights_transposed * cov_matrix * weights\n",
    "  \"\"\"\n",
    "  trading_days = 252\n",
    "  portfolio_returns = round(np.sum(mean_returns * weights) * trading_days, 4)\n",
    "  portfolio_std = round(np.sqrt( np.dot(weights.T, np.dot(cov_matrix, weights)) ), 4)\n",
    "  return portfolio_returns, portfolio_std"
   ]
  },
  {
   "cell_type": "markdown",
   "metadata": {
    "application/vnd.databricks.v1+cell": {
     "cellMetadata": {},
     "inputWidgets": {},
     "nuid": "85cc9050-0155-4adb-ac5a-2c7c5f27acdd",
     "showTitle": false,
     "title": ""
    }
   },
   "source": [
    "### Optimize the portfolio\n",
    "\n",
    "#### Option 1: Maximize Sharpe Ratio\n",
    "\n",
    "The Sharpe ratio is a financial metric that measures the risk-adjusted return of an investment or portfolio . It takes into account both the investment's returns and the risk involved in achieving those returns, and compares them to a risk-free investment, such as a Treasury bill. The higher the Sharpe ratio, the better the investment has performed in terms of returns per unit of risk. It is commonly used in finance to evaluate the performance of investments and to compare different investment opportunities.\n",
    "\n",
    "$$S(R_p, R_f, \\sigma_p) = \\frac{R_p - R_f}{\\sigma_p}$$\n",
    "\n",
    "Where:\n",
    "* S is the Sharpe ratio\n",
    "* $R_p$ is the expected portfolio return\n",
    "* $R_f$ is the risk-free rate\n",
    "* $\\sigma_p$ is the portfolio's standard deviation (i.e., a measure of its risk).\n",
    "* The higher the value of S, the better the portfolio's risk-adjusted performance."
   ]
  },
  {
   "cell_type": "code",
   "execution_count": 64,
   "metadata": {},
   "outputs": [],
   "source": [
    "from scipy.optimize import minimize\n",
    "\n",
    "\n",
    "def negative_sharpe_ratio(weights, mean_returns, cov_matrix, risk_free_rate = 0):\n",
    "    portfolio_returns, portfolio_std = cal_portfolio_performance(weights, mean_returns, cov_matrix)\n",
    "    sharpe_ratio = (portfolio_returns - risk_free_rate)/portfolio_std\n",
    "    return -sharpe_ratio\n",
    "\n",
    "def maximize_sharpe_ratio(mean_returns, cov_matrix, risk_free_rate = 0, constrain_set = (0,1)):\n",
    "    \"\"\"\n",
    "    Minimize the negative sharpe ratio by altering the weights of the portfolio\n",
    "    \"\"\"\n",
    "    num_assets = len(mean_returns)\n",
    "    args = ( mean_returns, cov_matrix, risk_free_rate)\n",
    "    constraints = ({'type': 'eq', 'fun': lambda x: np.sum(x) - 1})\n",
    "    bound = constrain_set\n",
    "    bounds = tuple(bound for asset in range(num_assets) )\n",
    "    max_sr_result = minimize(negative_sharpe_ratio, num_assets*[1.0/num_assets], args=args,\n",
    "                        method = 'SLSQP', bounds=bounds, constraints=constraints)\n",
    "    \n",
    "    max_sr_weights = np.around(max_sr_result['x']*100, decimals=3)\n",
    "    max_sr_returns, max_sr_std = cal_portfolio_performance(max_sr_weights, mean_returns, cov_matrix)\n",
    "    max_sr_allocation = pd.DataFrame(max_sr_weights, index=mean_returns.index, columns=['allocation'])\n",
    "    return max_sr_result, max_sr_returns, max_sr_std, max_sr_allocation\n"
   ]
  },
  {
   "attachments": {},
   "cell_type": "markdown",
   "metadata": {},
   "source": [
    "#### Option2: Minimize variance\n",
    "\n",
    "What is the minimize volatity of the portfolio"
   ]
  },
  {
   "cell_type": "code",
   "execution_count": 44,
   "metadata": {},
   "outputs": [],
   "source": [
    "def cal_portfolio_variance(weights, mean_returns, cov_matrix):\n",
    "    \"\"\" Returns only the standard deviation of the portfolio \"\"\"\n",
    "    return cal_portfolio_performance(weights, mean_returns, cov_matrix)[1]\n",
    "\n",
    "def minimize_variance(mean_returns, cov_matrix, constraint_set=(0,1)):\n",
    "    \"\"\"Minimize the portfolio variance by altering the \n",
    "     weights/allocation of assets in the portfolio\"\"\"\n",
    "    num_assets = len(mean_returns)\n",
    "    args = (mean_returns, cov_matrix)\n",
    "    constraints = ({'type': 'eq', 'fun': lambda x: np.sum(x) - 1})\n",
    "    bound = constraint_set\n",
    "    bounds = tuple(bound for asset in range(num_assets))\n",
    "    min_var_result = minimize(cal_portfolio_variance, num_assets*[1./num_assets], args=args,\n",
    "                        method='SLSQP', bounds=bounds, constraints=constraints)\n",
    "    \n",
    "    min_var_weights = np.around(min_var_result['x']*100, decimals=3)\n",
    "    min_var_returns, min_var_std = cal_portfolio_performance(min_var_weights, mean_returns, cov_matrix)\n",
    "    min_var_allocation = pd.DataFrame(min_var_weights, index=mean_returns.index, columns=['allocation'])\n",
    "    return min_var_result, min_var_returns, min_var_std, min_var_allocation\n"
   ]
  },
  {
   "attachments": {},
   "cell_type": "markdown",
   "metadata": {},
   "source": [
    "### Efficient Frontier"
   ]
  },
  {
   "cell_type": "code",
   "execution_count": 45,
   "metadata": {},
   "outputs": [],
   "source": [
    "def cal_portfolio_return(weights, mean_returns, cov_matrix):\n",
    "        return cal_portfolio_performance(weights, mean_returns, cov_matrix)[0]\n",
    "\n",
    "def cal_efficient_opt(mean_returns, cov_matrix, return_target, constraint_set=(0,1)):\n",
    "    \"\"\"For each returnTarget, we want to optimise the portfolio for min variance\"\"\"\n",
    "    num_assets = len(mean_returns)\n",
    "    args = (mean_returns, cov_matrix)\n",
    "    constraints = ({'type':'eq', 'fun': lambda x: cal_portfolio_return(x, mean_returns, cov_matrix) - return_target},\n",
    "                    {'type': 'eq', 'fun': lambda x: np.sum(x) - 1})\n",
    "    bound = constraint_set\n",
    "    bounds = tuple(bound for asset in range(num_assets))\n",
    "    eff_opt = minimize(cal_portfolio_variance, num_assets*[1./num_assets], args=args, method = 'SLSQP', bounds=bounds, constraints=constraints)\n",
    "    return eff_opt"
   ]
  },
  {
   "attachments": {},
   "cell_type": "markdown",
   "metadata": {},
   "source": [
    "## Verify"
   ]
  },
  {
   "cell_type": "code",
   "execution_count": 46,
   "metadata": {
    "application/vnd.databricks.v1+cell": {
     "cellMetadata": {
      "byteLimit": 2048000,
      "rowLimit": 10000
     },
     "inputWidgets": {},
     "nuid": "ea46a911-f4ef-4796-856d-959bd20c92be",
     "showTitle": false,
     "title": ""
    }
   },
   "outputs": [],
   "source": [
    "file_name = \"historical.json\"\n",
    "file_path = f\"{os.getcwd()}/data/{file_name}\""
   ]
  },
  {
   "cell_type": "code",
   "execution_count": 47,
   "metadata": {
    "application/vnd.databricks.v1+cell": {
     "cellMetadata": {
      "byteLimit": 2048000,
      "rowLimit": 10000
     },
     "inputWidgets": {},
     "nuid": "3ff734b2-f92d-40ef-a79a-92716566717e",
     "showTitle": false,
     "title": ""
    }
   },
   "outputs": [],
   "source": [
    "# stickers = ['AAPL', 'MSFT', 'TSLA', 'LCID', 'PFE', 'ABBV', 'RIVN', 'NVDA', 'AMD']\n",
    "# historical = get_historical_price_full(stickers, file_path)"
   ]
  },
  {
   "cell_type": "code",
   "execution_count": 55,
   "metadata": {
    "application/vnd.databricks.v1+cell": {
     "cellMetadata": {
      "byteLimit": 2048000,
      "rowLimit": 10000
     },
     "inputWidgets": {},
     "nuid": "5731f570-ef2d-47fe-b622-993c4a4d9c96",
     "showTitle": false,
     "title": ""
    }
   },
   "outputs": [],
   "source": [
    "df = get_data(file_path)\n",
    "stocks = df['symbol'].unique()"
   ]
  },
  {
   "cell_type": "code",
   "execution_count": 49,
   "metadata": {},
   "outputs": [],
   "source": [
    "pivot_df, mean_returns, cov_matrix = cal_return(df)"
   ]
  },
  {
   "cell_type": "code",
   "execution_count": 80,
   "metadata": {},
   "outputs": [],
   "source": [
    "def cal_portfolio_metrics(weights, mean_returns, cov_matrix, risk_free_rate = 0.0, index=0):\n",
    "    \n",
    "    '''\n",
    "    This function generates the relative performance metrics that will be reported and will be used\n",
    "    to find the optimal weights.\n",
    "    \n",
    "    Parameters\n",
    "    ---\n",
    "    weights (numpy array): initialized weights or optimal weights for performance reporting\n",
    "    cov_matrix (pd dataframe): covariance matrix of stock ,\n",
    "    risk_free_rate (float): risk free rate such as t-bill, default is 0.0\n",
    "\n",
    "    Returns\n",
    "    ---\n",
    "    pandas dataframe of a portfolio performance\n",
    "    '''   \n",
    "    portfolio_returns, portfolio_std = cal_portfolio_performance(weights, mean_returns, cov_matrix)\n",
    "    sharpe = (portfolio_returns - risk_free_rate)/portfolio_std\n",
    "    df = pd.DataFrame({\"Expected Return\": portfolio_returns,\n",
    "                       \"Portfolio Variance\":portfolio_std**2,\n",
    "                       'Portfolio Std': portfolio_std,\n",
    "                       'Sharpe Ratio': sharpe}, index=[index])\n",
    "    return df"
   ]
  },
  {
   "cell_type": "code",
   "execution_count": 79,
   "metadata": {},
   "outputs": [],
   "source": [
    "def simulate_portfolios( mean_returns, cov_matrix, risk_free_rate=0.0, n=100):\n",
    "    \"\"\"\n",
    "    Given the historical mean_returns and cov_matrix of the portfolio, as well as the risk_free_rate\n",
    "    Simulate n portfolios with different weights and performance\n",
    "\n",
    "    Parameters\n",
    "    ---\n",
    "    mean_returns (float): historical mean_returns\n",
    "    cov_matrix (pd dataframe): covariance matrix of stock ,\n",
    "    risk_free_rate (float): risk free rate such as t-bill, default is 0.0\n",
    "    n: number of simulations, default is 100\n",
    "\n",
    "    Returns\n",
    "    ---\n",
    "    portfolios (pandas dataframe): pandas dataframe of n portfolios and their expected performances\n",
    "    \"\"\"\n",
    "    np.random.seed(42)\n",
    "    #Empty Container\n",
    "    portfolios = pd.DataFrame(columns=[*stocks, \"Expected Return\",\"Portfolio Variance\", \"Portfolio Std\", \"Sharpe Ratio\"])\n",
    "    #Loop\n",
    "    for i in range(n):\n",
    "        weights = np.random.random(len(stocks))\n",
    "        weights /= np.sum(weights)\n",
    "        portfolios.loc[i, stocks] = weights\n",
    "        metrics = cal_portfolio_metrics(weights, mean_returns, cov_matrix, risk_free_rate = risk_free_rate, index=i)\n",
    "        # print(metrics)\n",
    "        portfolios.loc[i, [\"Expected Return\",\"Portfolio Variance\", \"Portfolio Std\", \"Sharpe Ratio\"]] = metrics.loc[i,[\"Expected Return\",\"Portfolio Variance\", \"Portfolio Std\", \"Sharpe Ratio\"]]\n",
    "        \n",
    "    return portfolios\n"
   ]
  },
  {
   "cell_type": "code",
   "execution_count": 81,
   "metadata": {},
   "outputs": [
    {
     "data": {
      "text/html": [
       "<div>\n",
       "<style scoped>\n",
       "    .dataframe tbody tr th:only-of-type {\n",
       "        vertical-align: middle;\n",
       "    }\n",
       "\n",
       "    .dataframe tbody tr th {\n",
       "        vertical-align: top;\n",
       "    }\n",
       "\n",
       "    .dataframe thead th {\n",
       "        text-align: right;\n",
       "    }\n",
       "</style>\n",
       "<table border=\"1\" class=\"dataframe\">\n",
       "  <thead>\n",
       "    <tr style=\"text-align: right;\">\n",
       "      <th></th>\n",
       "      <th>AAPL</th>\n",
       "      <th>MSFT</th>\n",
       "      <th>TSLA</th>\n",
       "      <th>LCID</th>\n",
       "      <th>PFE</th>\n",
       "      <th>Expected Return</th>\n",
       "      <th>Portfolio Variance</th>\n",
       "      <th>Portfolio Std</th>\n",
       "      <th>Sharpe Ratio</th>\n",
       "    </tr>\n",
       "  </thead>\n",
       "  <tbody>\n",
       "    <tr>\n",
       "      <th>4222</th>\n",
       "      <td>0.552807</td>\n",
       "      <td>0.009441</td>\n",
       "      <td>0.389236</td>\n",
       "      <td>0.044609</td>\n",
       "      <td>0.003906</td>\n",
       "      <td>-0.0105</td>\n",
       "      <td>0.000412</td>\n",
       "      <td>0.0203</td>\n",
       "      <td>-0.517241</td>\n",
       "    </tr>\n",
       "  </tbody>\n",
       "</table>\n",
       "</div>"
      ],
      "text/plain": [
       "          AAPL      MSFT      TSLA      LCID       PFE Expected Return  \\\n",
       "4222  0.552807  0.009441  0.389236  0.044609  0.003906         -0.0105   \n",
       "\n",
       "     Portfolio Variance Portfolio Std Sharpe Ratio  \n",
       "4222           0.000412        0.0203    -0.517241  "
      ]
     },
     "execution_count": 81,
     "metadata": {},
     "output_type": "execute_result"
    }
   ],
   "source": [
    "portfolios = simulate_portfolios(mean_returns, cov_matrix, risk_free_rate=0.0, n=10000)\n",
    "portfolios[portfolios[\"Sharpe Ratio\"]==portfolios[\"Sharpe Ratio\"].max()]"
   ]
  },
  {
   "cell_type": "code",
   "execution_count": null,
   "metadata": {},
   "outputs": [],
   "source": []
  }
 ],
 "metadata": {
  "application/vnd.databricks.v1+notebook": {
   "dashboards": [],
   "language": "python",
   "notebookMetadata": {
    "mostRecentlyExecutedCommandWithImplicitDF": {
     "commandId": 138371607180041,
     "dataframes": [
      "_sqldf"
     ]
    },
    "pythonIndentUnit": 2
   },
   "notebookName": "mpt",
   "notebookOrigID": 138371607180017,
   "widgets": {}
  },
  "kernelspec": {
   "display_name": "Python 3",
   "language": "python",
   "name": "python3"
  },
  "language_info": {
   "codemirror_mode": {
    "name": "ipython",
    "version": 3
   },
   "file_extension": ".py",
   "mimetype": "text/x-python",
   "name": "python",
   "nbconvert_exporter": "python",
   "pygments_lexer": "ipython3",
   "version": "3.9.6"
  }
 },
 "nbformat": 4,
 "nbformat_minor": 0
}

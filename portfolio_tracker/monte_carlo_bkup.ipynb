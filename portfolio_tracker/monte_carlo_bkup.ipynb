{
 "cells": [
  {
   "cell_type": "markdown",
   "metadata": {
    "application/vnd.databricks.v1+cell": {
     "cellMetadata": {},
     "inputWidgets": {},
     "nuid": "1ebcf2b5-b9de-4bb2-b925-63e73a4557db",
     "showTitle": false,
     "title": ""
    }
   },
   "source": [
    "# Portfolio Optimization with Monte Carlo Simulation and Modern Portfolio Theory"
   ]
  },
  {
   "cell_type": "markdown",
   "metadata": {
    "application/vnd.databricks.v1+cell": {
     "cellMetadata": {},
     "inputWidgets": {},
     "nuid": "0ca4f33e-035e-4c9d-83b4-020b2dbfc666",
     "showTitle": false,
     "title": ""
    }
   },
   "source": [
    "## Abstract\n",
    "This project will follow the classic [Modern Portfolio Theory](https://en.wikipedia.org/wiki/Modern_portfolio_theory) of Harry Markowitz. The project aims to utilize Monte Carlo simulation and Modern Portfolio Theory (MPT) to determine the optimal weights of stocks in a portfolio. The goal is to construct an efficient frontier using historical stock data and MPT, allowing for maximized returns while minimizing risks. A Monte Carlo simulation will be performed to test various stock weights in the portfolio of specific stocks in order to find the optimal allocation."
   ]
  },
  {
   "cell_type": "markdown",
   "metadata": {
    "application/vnd.databricks.v1+cell": {
     "cellMetadata": {},
     "inputWidgets": {},
     "nuid": "84629a00-c533-4ea3-b107-359e5a3962d3",
     "showTitle": false,
     "title": ""
    }
   },
   "source": [
    "## Introduction\n",
    "\n",
    "### 1. What is Modern Portfolio Theory\n",
    "\n",
    "Modern Portfolio Theory (MPT) is a theory of investment that aims to maximize expected return while minimizing risk by carefully choosing the proportion of various assets in a portfolio. At its core, MPT provides a quantitative approach to the concept of diversification that aims to help investors achieve their financial goals by constructing portfolios that balance risk and reward.\n",
    "\n",
    "#### Advantages and Disadvantages of MPT\n",
    "\n",
    "**Advantages of Modern Portfolio Theory:**\n",
    "\n",
    "By diversifying investments across multiple asset classes, MPT aims to optimize the risk-return tradeoff of a portfolio, potentially leading to better risk-adjusted returns.\n",
    "MPT encourages investors to assess their risk tolerance, goals, and investment horizon, which can lead to a more structured investment plan.\n",
    "The theory provides a framework for understanding portfolio construction and risk management.\n",
    "\n",
    "**Disadvantages of Modern Portfolio Theory:**\n",
    "\n",
    "MPT relies on statistical data, which can be unreliable and calculated with assumptions that do not match reality.\n",
    "The theory assumes that the returns of assets are normally distributed, which can lead to errors when applied to non-normal asset classes.\n",
    "MPT places a greater emphasis on maximizing returns rather than minimizing losses or considering downside risk, which may not be suitable for all investors.\n",
    "\n",
    "#### MPT formula\n",
    "\n",
    "- Expected return:\n",
    "$$\n",
    "\\mathrm{E}\\left(R_p\\right)=\\sum_i w_i \\mathrm{E}\\left(R_i\\right)\n",
    "$$\n",
    "where $R_p$ is the return on the portfolio, $R_i$ is the return on asset $i$ and $w_i$ is the weighting of component asset $i$ (that is, the proportion of asset \"i\" in the portfolio, so that $\\sum_i w_i=1$ ).\n",
    "- Portfolio return variance:\n",
    "$$\n",
    "\\sigma_p^2=\\sum_i w_i^2 \\sigma_i^2+\\sum_i \\sum_{j \\neq i} w_i w_j \\sigma_i \\sigma_j \\rho_{i j}\n",
    "$$\n",
    "where $\\sigma_i$ is the (sample) standard deviation of the periodic returns on an asset $i$, and $\\rho_{i j}$ is the correlation coefficient between the returns on assets $i$ and $j$. Alternatively the expression can be written as:\n",
    "$$\n",
    "\\sigma_p^2=\\sum_i \\sum_j w_i w_j \\sigma_i \\sigma_j \\rho_{i j}\n",
    "$$\n",
    "where $\\rho_{i j}=1$ for $i=j$, or\n",
    "$$\n",
    "\\sigma_p^2=\\sum_i \\sum_j w_i w_j \\sigma_{i j}\n",
    "$$\n",
    "where $\\sigma_{i j}=\\sigma_i \\sigma_j \\rho_{i j}$ is the (sample) covariance of the periodic returns on the two assets, or alternatively denoted as $\\sigma(i, j)$, $\\operatorname{cov}{ }_{i j}$ or $\\operatorname{cov}(i, j)$.\n",
    "- Portfolio return volatility (standard deviation):\n",
    "$$\n",
    "\\sigma_p=\\sqrt{\\sigma_p^2}\n",
    "$$"
   ]
  },
  {
   "cell_type": "markdown",
   "metadata": {
    "application/vnd.databricks.v1+cell": {
     "cellMetadata": {},
     "inputWidgets": {},
     "nuid": "8dcca270-ac96-4eee-af9d-4425b6f80f19",
     "showTitle": false,
     "title": ""
    }
   },
   "source": [
    "### 3. Optimize MPT with Monte Carlo\n",
    "\n",
    "Monte Carlo simulation is a mathematical technique used to predict the probability of a range of outcomes when dealing with potential random variables. It involves using computer programs to run random experiments and analyze the results to gain insights into the likelihood of certain outcomes. Monte\n",
    "\n",
    "By simulating a large number of potential market scenarios and running them through the portfolio optimization process such as MPT, the two methods can be combined to identify the most robust and efficient portfolio weights that yield the maximum returns at the lowest risk level."
   ]
  },
  {
   "cell_type": "markdown",
   "metadata": {
    "application/vnd.databricks.v1+cell": {
     "cellMetadata": {},
     "inputWidgets": {},
     "nuid": "4f4112c0-fee7-488b-82c6-769a51ff4cf9",
     "showTitle": false,
     "title": ""
    }
   },
   "source": [
    "## Implementation"
   ]
  },
  {
   "cell_type": "markdown",
   "metadata": {
    "application/vnd.databricks.v1+cell": {
     "cellMetadata": {},
     "inputWidgets": {},
     "nuid": "a88d0493-8176-4853-9bec-bf705e09ec77",
     "showTitle": false,
     "title": ""
    }
   },
   "source": [
    "### Extract Data\n",
    "Extract data from Financial Modelling Prep API"
   ]
  },
  {
   "cell_type": "code",
   "execution_count": 0,
   "metadata": {
    "application/vnd.databricks.v1+cell": {
     "cellMetadata": {
      "byteLimit": 2048000,
      "rowLimit": 10000
     },
     "inputWidgets": {},
     "nuid": "e1ecbcac-7e9f-4b1e-a001-961461cf5cf1",
     "showTitle": false,
     "title": ""
    }
   },
   "outputs": [],
   "source": [
    "%pip install python-dotenv\n",
    "%pip install scipy"
   ]
  },
  {
   "cell_type": "code",
   "execution_count": 0,
   "metadata": {
    "application/vnd.databricks.v1+cell": {
     "cellMetadata": {
      "byteLimit": 2048000,
      "rowLimit": 10000
     },
     "inputWidgets": {},
     "nuid": "7fb1eab8-8d42-4c05-b8dd-2146fc2d5e77",
     "showTitle": false,
     "title": ""
    }
   },
   "outputs": [],
   "source": [
    "import os\n",
    "from dotenv import load_dotenv\n",
    "import ssl\n",
    "from urllib.request import urlopen\n",
    "import numpy as np\n",
    "import datetime as dt\n",
    "import pandas as pd\n",
    "import matplotlib.pyplot as plt\n",
    "import datetime as dt\n",
    "import json\n",
    "\n",
    "load_dotenv()\n",
    "API_KEY = os.getenv('API_KEY')\n",
    "base_url = \"https://financialmodelingprep.com/api/v3\""
   ]
  },
  {
   "cell_type": "code",
   "execution_count": 0,
   "metadata": {
    "application/vnd.databricks.v1+cell": {
     "cellMetadata": {},
     "inputWidgets": {},
     "nuid": "2e6c5ef3-ae33-4a35-a376-aaa9e5b799a5",
     "showTitle": false,
     "title": ""
    }
   },
   "outputs": [],
   "source": [
    "def get_jsonparsed_data(url):\n",
    "    \"\"\"\n",
    "    Receive the content of ``url``, parse it as JSON and return the object.\n",
    "\n",
    "    Parameters\n",
    "    ----------\n",
    "    url : str\n",
    "\n",
    "    Returns\n",
    "    -------\n",
    "    dict\n",
    "    \"\"\"\n",
    "    context = ssl.create_default_context()\n",
    "    response = urlopen(url, context=context)\n",
    "    data = response.read().decode(\"utf-8\")\n",
    "    return json.loads(data)"
   ]
  },
  {
   "cell_type": "code",
   "execution_count": 0,
   "metadata": {
    "application/vnd.databricks.v1+cell": {
     "cellMetadata": {
      "byteLimit": 2048000,
      "rowLimit": 10000
     },
     "inputWidgets": {},
     "nuid": "c2d50ed5-c2a1-4e2b-93aa-4e4008563cbd",
     "showTitle": false,
     "title": ""
    }
   },
   "outputs": [],
   "source": [
    "def get_historical_price_full(stickers, file_path):\n",
    "    \"\"\"\n",
    "    Extract historical 1yr daily price for stock stickers, and save to json file with file_path\n",
    "\n",
    "    Parameters:\n",
    "      stickers (list): list of stock stickers\n",
    "      file_path (str): json data file\n",
    "\n",
    "    Returns:\n",
    "      Json object of historical stock prices of all stocks in the list\n",
    "    \"\"\"\n",
    "    stickers_str = ','.join(stickers)\n",
    "\n",
    "    url = (f\"{base_url}/historical-price-full/{stickers_str}?apikey={API_KEY}\")\n",
    "\n",
    "    data = get_jsonparsed_data(url)\n",
    "\n",
    "    with open(file_path, \"w\") as f:\n",
    "        if len(stickers) == 1:\n",
    "          json.dump(data, f)   \n",
    "        else:\n",
    "          json.dump(data[\"historicalStockList\"], f)\n",
    "\n",
    "    return data\n",
    "\n",
    "def get_historical_price(stock, start_date, end_date, file_path):\n",
    "    \"\"\"\n",
    "    Extract historical daily price for 1 stock, and save to json file with file_path\n",
    "\n",
    "    Parameters:\n",
    "      stocks (list): list of stocks\n",
    "      file_path (str): json data file\n",
    "\n",
    "    Returns:\n",
    "      Json object of historical stock prices of all stocks in the list\n",
    "    \"\"\"\n",
    "\n",
    "    url = (f\"{base_url}/historical-price-full/{stock}?from={start_date}&to={end_date}&apikey={API_KEY}\")\n",
    "\n",
    "    data = get_jsonparsed_data(url)\n",
    "\n",
    "    with open(file_path, \"w\") as f:\n",
    "      json.dump(data, f)\n",
    "\n",
    "    return data\n",
    "\n",
    "def get_quote(stocks, file_path):\n",
    "    \"\"\"\n",
    "    Extract current price for stock stocks, and save to json file with file_path\n",
    "\n",
    "    Parameters:\n",
    "      stocks (list): list of stock stocks\n",
    "      file_path (str): json data file\n",
    "\n",
    "    Returns:\n",
    "      Json object of historical stock prices of all stocks in the list\n",
    "    \"\"\"\n",
    "    stocks_str = ','.join(stocks)\n",
    "\n",
    "    url = (f\"{base_url}/quote/{stocks_str}?apikey={API_KEY}\")\n",
    "\n",
    "    data = get_jsonparsed_data(url)\n",
    "\n",
    "    with open(file_path, \"w\") as f:\n",
    "        json.dump(data, f)   \n",
    "    return data"
   ]
  },
  {
   "cell_type": "markdown",
   "metadata": {
    "application/vnd.databricks.v1+cell": {
     "cellMetadata": {},
     "inputWidgets": {},
     "nuid": "87b77079-b2ef-41fa-9983-79e45d3a1e6d",
     "showTitle": false,
     "title": ""
    }
   },
   "source": [
    "### Process Data"
   ]
  },
  {
   "cell_type": "code",
   "execution_count": 0,
   "metadata": {
    "application/vnd.databricks.v1+cell": {
     "cellMetadata": {
      "byteLimit": 2048000,
      "rowLimit": 10000
     },
     "inputWidgets": {},
     "nuid": "6efea511-5dfc-4f04-8823-9806f960369d",
     "showTitle": false,
     "title": ""
    }
   },
   "outputs": [],
   "source": [
    "def get_json_data(file_path):\n",
    "  # open the JSON file\n",
    "  with open(file_path, 'r') as f:\n",
    "      # load the JSON object into a Python object\n",
    "      json_obj = json.load(f)\n",
    "\n",
    "  columns = list(json_obj[0]['historical'][0].keys())\n",
    "  df = pd.DataFrame(columns=['symbol'] + columns)\n",
    "  for stock in json_obj:\n",
    "    symbol = stock['symbol']\n",
    "    historical = stock['historical']\n",
    "    data = pd.DataFrame(historical, columns=columns)\n",
    "    data.insert(0, 'symbol', symbol)\n",
    "    df = pd.concat([df, data])\n",
    "  return df\n",
    "\n",
    "def get_data(file_path):\n",
    "  \"\"\"\n",
    "  Return a cleaned pandas dataframe of historical full stock price information from json file\n",
    "  \"\"\"\n",
    "  df = pd.read_json(file_path)\n",
    "  # use explode to split a list to multiple rows\n",
    "  explode_df = df.explode('historical')\n",
    "  # use apply and pd.Series to split dictionary column into multiple columns\n",
    "  normalize_df = explode_df['historical'].apply(pd.Series)\n",
    "  # concatenate 'symbol' column to the normalized_df by column (axis=1)\n",
    "  df_final = pd.concat([explode_df['symbol'], normalize_df], axis=1)\n",
    "  return df_final\n"
   ]
  },
  {
   "cell_type": "markdown",
   "metadata": {
    "application/vnd.databricks.v1+cell": {
     "cellMetadata": {},
     "inputWidgets": {},
     "nuid": "6aff638e-11d1-4d0f-be69-dc556831c3ff",
     "showTitle": false,
     "title": ""
    }
   },
   "source": [
    "### Modern Portfolio Theory"
   ]
  },
  {
   "cell_type": "code",
   "execution_count": 0,
   "metadata": {
    "application/vnd.databricks.v1+cell": {
     "cellMetadata": {},
     "inputWidgets": {},
     "nuid": "ea0b2b09-a1c5-4f61-bfa8-2e49121669f6",
     "showTitle": false,
     "title": ""
    }
   },
   "outputs": [],
   "source": [
    "def cal_return(df):\n",
    "  \"\"\"\n",
    "  Return a pandas dataframe of adjusted close price for each stock sticker\n",
    "  \"\"\"\n",
    "  pivot_df = df.pivot(index = 'date', columns='symbol', values = 'adjClose')\n",
    "  returns = pivot_df.pct_change()\n",
    "  mean_returns = returns.mean()\n",
    "  cov_matrix = returns.cov()\n",
    "  return pivot_df, mean_returns, cov_matrix\n",
    "  \n",
    "def cal_portfolio_performance(weights, mean_returns, cov_matrix):\n",
    "  \"\"\"\n",
    "  Given porfolio weight, calculate portfolio return and standard deviatzion based on modern portfolio theory\n",
    "  \n",
    "  Parameters: \n",
    "    mean_returns\n",
    "    cov_matrix\n",
    "    weights (numpy array): array of weights for each stock sticker\n",
    "\n",
    "  Returns:\n",
    "    portfolio_return (float):  Sum(mean_returns * weights) * trading_days\n",
    "    porfolio_std (float):  weights_transposed * cov_matrix * weights\n",
    "  \"\"\"\n",
    "  trading_days = 252\n",
    "  portfolio_returns = round(np.sum(mean_returns * weights) * trading_days, 4)\n",
    "  portfolio_std = round(np.sqrt( np.dot(weights.T, np.dot(cov_matrix, weights)) ), 4)\n",
    "  return portfolio_returns, portfolio_std"
   ]
  },
  {
   "cell_type": "markdown",
   "metadata": {
    "application/vnd.databricks.v1+cell": {
     "cellMetadata": {},
     "inputWidgets": {},
     "nuid": "c05aae0f-6529-4346-9292-1ffb261c72fc",
     "showTitle": false,
     "title": ""
    }
   },
   "source": [
    "### Monte Carlo Simulation"
   ]
  },
  {
   "cell_type": "code",
   "execution_count": 0,
   "metadata": {
    "application/vnd.databricks.v1+cell": {
     "cellMetadata": {},
     "inputWidgets": {},
     "nuid": "b47d044b-b84c-4013-83cd-2e986de30dee",
     "showTitle": false,
     "title": ""
    }
   },
   "outputs": [],
   "source": [
    "def cal_portfolio_metrics(weights, mean_returns, cov_matrix, risk_free_rate = 0.0, index=0):\n",
    "    \n",
    "    '''\n",
    "    This function generates the relative performance metrics that will be reported and will be used\n",
    "    to find the optimal weights.\n",
    "    \n",
    "    Parameters\n",
    "    ---\n",
    "    weights (numpy array): initialized weights or optimal weights for performance reporting\n",
    "    cov_matrix (pd dataframe): covariance matrix of stock ,\n",
    "    risk_free_rate (float): risk free rate such as t-bill, default is 0.0\n",
    "\n",
    "    Returns\n",
    "    ---\n",
    "    pandas dataframe of a portfolio performance\n",
    "    '''   \n",
    "    portfolio_returns, portfolio_std = cal_portfolio_performance(weights, mean_returns, cov_matrix)\n",
    "    sharpe = (portfolio_returns - risk_free_rate)/portfolio_std\n",
    "    df = pd.DataFrame({\"Expected Return\": portfolio_returns,\n",
    "                       \"Portfolio Variance\":portfolio_std**2,\n",
    "                       'Portfolio Std': portfolio_std,\n",
    "                       'Sharpe Ratio': sharpe}, index=[index])\n",
    "    return df"
   ]
  },
  {
   "cell_type": "markdown",
   "metadata": {
    "application/vnd.databricks.v1+cell": {
     "cellMetadata": {},
     "inputWidgets": {},
     "nuid": "6e84bf9b-5598-48e9-b393-bb37528e4f2a",
     "showTitle": false,
     "title": ""
    }
   },
   "source": [
    "## Verify"
   ]
  },
  {
   "cell_type": "code",
   "execution_count": 0,
   "metadata": {
    "application/vnd.databricks.v1+cell": {
     "cellMetadata": {
      "byteLimit": 2048000,
      "rowLimit": 10000
     },
     "inputWidgets": {},
     "nuid": "ea46a911-f4ef-4796-856d-959bd20c92be",
     "showTitle": false,
     "title": ""
    }
   },
   "outputs": [],
   "source": [
    "file_name = \"historical.json\"\n",
    "file_path = f\"{os.getcwd()}/data/{file_name}\""
   ]
  },
  {
   "cell_type": "code",
   "execution_count": 0,
   "metadata": {
    "application/vnd.databricks.v1+cell": {
     "cellMetadata": {
      "byteLimit": 2048000,
      "rowLimit": 10000
     },
     "inputWidgets": {},
     "nuid": "3ff734b2-f92d-40ef-a79a-92716566717e",
     "showTitle": false,
     "title": ""
    }
   },
   "outputs": [],
   "source": [
    "stickers = ['AAPL', 'MSFT', 'TSLA']\n",
    "end_date = '2023-04-01'\n",
    "start_date = '2013-04-01'\n",
    "\n",
    "def process_all(stocks, start_date, end_date):\n",
    "    # write stock data to files\n",
    "    for stock in stocks:\n",
    "        file_path = f\"{os.getcwd()}/data/{stock}_10yr.json\"\n",
    "        price = get_historical_price(stickers, start_date, end_date, file_path)"
   ]
  },
  {
   "cell_type": "code",
   "execution_count": 0,
   "metadata": {
    "application/vnd.databricks.v1+cell": {
     "cellMetadata": {
      "byteLimit": 2048000,
      "rowLimit": 10000
     },
     "inputWidgets": {},
     "nuid": "5731f570-ef2d-47fe-b622-993c4a4d9c96",
     "showTitle": false,
     "title": ""
    }
   },
   "outputs": [],
   "source": [
    "df = get_data(file_path)\n",
    "stocks = df['symbol'].unique()"
   ]
  },
  {
   "cell_type": "code",
   "execution_count": 0,
   "metadata": {
    "application/vnd.databricks.v1+cell": {
     "cellMetadata": {},
     "inputWidgets": {},
     "nuid": "375f095a-a86a-477d-8b9f-5f4de669aef9",
     "showTitle": false,
     "title": ""
    }
   },
   "outputs": [],
   "source": [
    "stocks"
   ]
  },
  {
   "cell_type": "code",
   "execution_count": 0,
   "metadata": {
    "application/vnd.databricks.v1+cell": {
     "cellMetadata": {},
     "inputWidgets": {},
     "nuid": "2df0d70e-e7ed-448b-ba72-9c710ab02a40",
     "showTitle": false,
     "title": ""
    }
   },
   "outputs": [],
   "source": [
    "pivot_df, mean_returns, cov_matrix = cal_return(df)"
   ]
  },
  {
   "cell_type": "code",
   "execution_count": 0,
   "metadata": {
    "application/vnd.databricks.v1+cell": {
     "cellMetadata": {},
     "inputWidgets": {},
     "nuid": "c698d7a4-a0ec-432f-a4fa-be969a2ecc12",
     "showTitle": false,
     "title": ""
    }
   },
   "outputs": [],
   "source": [
    "print(pivot_df.index.min())\n",
    "print(pivot_df.index.max())"
   ]
  },
  {
   "cell_type": "code",
   "execution_count": 0,
   "metadata": {
    "application/vnd.databricks.v1+cell": {
     "cellMetadata": {},
     "inputWidgets": {},
     "nuid": "0f948758-8edc-4661-9427-d722a729ff99",
     "showTitle": false,
     "title": ""
    }
   },
   "outputs": [],
   "source": [
    "def simulate_portfolios( mean_returns, cov_matrix, risk_free_rate=0.0, n=100):\n",
    "    \"\"\"\n",
    "    Given the historical mean_returns and cov_matrix of the portfolio, as well as the risk_free_rate\n",
    "    Simulate n portfolios with different weights and performance\n",
    "\n",
    "    Parameters\n",
    "    ---\n",
    "    mean_returns (float): historical mean_returns\n",
    "    cov_matrix (pd dataframe): covariance matrix of stock ,\n",
    "    risk_free_rate (float): risk free rate such as t-bill, default is 0.0\n",
    "    n: number of simulations, default is 100\n",
    "\n",
    "    Returns\n",
    "    ---\n",
    "    portfolios (pandas dataframe): pandas dataframe of n portfolios and their expected performances\n",
    "    \"\"\"\n",
    "    np.random.seed(42)\n",
    "    #Empty Container\n",
    "    portfolios = pd.DataFrame(columns=[*stocks, \"Expected Return\",\"Portfolio Variance\", \"Portfolio Std\", \"Sharpe Ratio\"])\n",
    "    #Loop\n",
    "    for i in range(n):\n",
    "        weights = np.random.random(len(stocks))\n",
    "        weights /= np.sum(weights)\n",
    "        portfolios.loc[i, stocks] = weights\n",
    "        metrics = cal_portfolio_metrics(weights, mean_returns, cov_matrix, risk_free_rate = risk_free_rate, index=i)\n",
    "        # print(metrics)\n",
    "        portfolios.loc[i, [\"Expected Return\",\"Portfolio Variance\", \"Portfolio Std\", \"Sharpe Ratio\"]] = metrics.loc[i,[\"Expected Return\",\"Portfolio Variance\", \"Portfolio Std\", \"Sharpe Ratio\"]]\n",
    "        \n",
    "    return portfolios\n"
   ]
  },
  {
   "cell_type": "code",
   "execution_count": 0,
   "metadata": {
    "application/vnd.databricks.v1+cell": {
     "cellMetadata": {},
     "inputWidgets": {},
     "nuid": "b2773161-be4a-42cf-94cd-573a534b919f",
     "showTitle": false,
     "title": ""
    }
   },
   "outputs": [],
   "source": [
    "portfolios = simulate_portfolios(mean_returns, cov_matrix, risk_free_rate=0.0, n=10000)\n",
    "portfolios[portfolios[\"Sharpe Ratio\"]==portfolios[\"Sharpe Ratio\"].max()]"
   ]
  },
  {
   "cell_type": "code",
   "execution_count": 0,
   "metadata": {
    "application/vnd.databricks.v1+cell": {
     "cellMetadata": {},
     "inputWidgets": {},
     "nuid": "c7f1378c-1f99-4a4e-9b5c-efd57d94af04",
     "showTitle": false,
     "title": ""
    }
   },
   "outputs": [],
   "source": []
  }
 ],
 "metadata": {
  "application/vnd.databricks.v1+notebook": {
   "dashboards": [],
   "language": "python",
   "notebookMetadata": {
    "mostRecentlyExecutedCommandWithImplicitDF": {
     "commandId": 138371607180041,
     "dataframes": [
      "_sqldf"
     ]
    },
    "pythonIndentUnit": 2
   },
   "notebookName": "monte_carlo",
   "notebookOrigID": 2845657614904208,
   "widgets": {}
  },
  "kernelspec": {
   "display_name": "Python 3",
   "language": "python",
   "name": "python3"
  },
  "language_info": {
   "codemirror_mode": {
    "name": "ipython",
    "version": 3
   },
   "file_extension": ".py",
   "mimetype": "text/x-python",
   "name": "python",
   "nbconvert_exporter": "python",
   "pygments_lexer": "ipython3",
   "version": "3.9.6"
  }
 },
 "nbformat": 4,
 "nbformat_minor": 0
}

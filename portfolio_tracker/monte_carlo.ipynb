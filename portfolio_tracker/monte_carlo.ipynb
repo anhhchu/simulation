{
 "cells": [
  {
   "cell_type": "markdown",
   "metadata": {
    "application/vnd.databricks.v1+cell": {
     "cellMetadata": {},
     "inputWidgets": {},
     "nuid": "1ebcf2b5-b9de-4bb2-b925-63e73a4557db",
     "showTitle": false,
     "title": ""
    }
   },
   "source": [
    "# Portfolio Optimization with Monte Carlo Simulation and Modern Portfolio Theory"
   ]
  },
  {
   "cell_type": "markdown",
   "metadata": {
    "application/vnd.databricks.v1+cell": {
     "cellMetadata": {},
     "inputWidgets": {},
     "nuid": "0ca4f33e-035e-4c9d-83b4-020b2dbfc666",
     "showTitle": false,
     "title": ""
    }
   },
   "source": [
    "## Abstract\n",
    "This project will follow the classic [Modern Portfolio Theory](https://en.wikipedia.org/wiki/Modern_portfolio_theory) of Harry Markowitz. The project aims to utilize Monte Carlo simulation and Modern Portfolio Theory (MPT) to determine the optimal weights of stocks in a portfolio. The goal is to construct an efficient frontier using historical stock data and MPT, allowing for maximized returns while minimizing risks. A Monte Carlo simulation will be performed to test various stock weights in the portfolio of specific stocks in order to find the optimal allocation."
   ]
  },
  {
   "cell_type": "markdown",
   "metadata": {
    "application/vnd.databricks.v1+cell": {
     "cellMetadata": {},
     "inputWidgets": {},
     "nuid": "84629a00-c533-4ea3-b107-359e5a3962d3",
     "showTitle": false,
     "title": ""
    }
   },
   "source": [
    "## Introduction\n",
    "\n",
    "### 1. What is Modern Portfolio Theory\n",
    "\n",
    "Modern Portfolio Theory (MPT) is a theory of investment that aims to maximize expected return while minimizing risk by carefully choosing the proportion of various assets in a portfolio. At its core, MPT provides a quantitative approach to the concept of diversification that aims to help investors achieve their financial goals by constructing portfolios that balance risk and reward.\n",
    "\n",
    "#### Advantages and Disadvantages of MPT\n",
    "\n",
    "**Advantages of Modern Portfolio Theory:**\n",
    "\n",
    "By diversifying investments across multiple asset classes, MPT aims to optimize the risk-return tradeoff of a portfolio, potentially leading to better risk-adjusted returns.\n",
    "MPT encourages investors to assess their risk tolerance, goals, and investment horizon, which can lead to a more structured investment plan.\n",
    "The theory provides a framework for understanding portfolio construction and risk management.\n",
    "\n",
    "**Disadvantages of Modern Portfolio Theory:**\n",
    "\n",
    "MPT relies on statistical data, which can be unreliable and calculated with assumptions that do not match reality.\n",
    "The theory assumes that the returns of assets are normally distributed, which can lead to errors when applied to non-normal asset classes.\n",
    "MPT places a greater emphasis on maximizing returns rather than minimizing losses or considering downside risk, which may not be suitable for all investors.\n",
    "\n",
    "#### MPT formula\n",
    "\n",
    "- Expected return:\n",
    "$$\n",
    "\\mathrm{E}\\left(R_p\\right)=\\sum_i w_i \\mathrm{E}\\left(R_i\\right)\n",
    "$$\n",
    "where $R_p$ is the return on the portfolio, $R_i$ is the return on asset $i$ and $w_i$ is the weighting of component asset $i$ (that is, the proportion of asset \"i\" in the portfolio, so that $\\sum_i w_i=1$ ).\n",
    "- Portfolio return variance:\n",
    "$$\n",
    "\\sigma_p^2=\\sum_i w_i^2 \\sigma_i^2+\\sum_i \\sum_{j \\neq i} w_i w_j \\sigma_i \\sigma_j \\rho_{i j}\n",
    "$$\n",
    "where $\\sigma_i$ is the (sample) standard deviation of the periodic returns on an asset $i$, and $\\rho_{i j}$ is the correlation coefficient between the returns on assets $i$ and $j$. Alternatively the expression can be written as:\n",
    "$$\n",
    "\\sigma_p^2=\\sum_i \\sum_j w_i w_j \\sigma_i \\sigma_j \\rho_{i j}\n",
    "$$\n",
    "where $\\rho_{i j}=1$ for $i=j$, or\n",
    "$$\n",
    "\\sigma_p^2=\\sum_i \\sum_j w_i w_j \\sigma_{i j}\n",
    "$$\n",
    "where $\\sigma_{i j}=\\sigma_i \\sigma_j \\rho_{i j}$ is the (sample) covariance of the periodic returns on the two assets, or alternatively denoted as $\\sigma(i, j)$, $\\operatorname{cov}{ }_{i j}$ or $\\operatorname{cov}(i, j)$.\n",
    "- Portfolio return volatility (standard deviation):\n",
    "$$\n",
    "\\sigma_p=\\sqrt{\\sigma_p^2}\n",
    "$$"
   ]
  },
  {
   "attachments": {},
   "cell_type": "markdown",
   "metadata": {
    "application/vnd.databricks.v1+cell": {
     "cellMetadata": {},
     "inputWidgets": {},
     "nuid": "8dcca270-ac96-4eee-af9d-4425b6f80f19",
     "showTitle": false,
     "title": ""
    }
   },
   "source": [
    "### 3. Optimize MPT with Monte Carlo\n",
    "\n",
    "Monte Carlo simulation is a mathematical technique used to predict the probability of a range of outcomes when dealing with potential random variables. It involves using computer programs to run random experiments and analyze the results to gain insights into the likelihood of certain outcomes.\n",
    "\n",
    "By simulating a large number of potential market scenarios and running them through the portfolio optimization process such as MPT, the two methods can be combined to identify the most robust and efficient portfolio weights that yield the maximum returns at the lowest risk level."
   ]
  },
  {
   "cell_type": "markdown",
   "metadata": {
    "application/vnd.databricks.v1+cell": {
     "cellMetadata": {},
     "inputWidgets": {},
     "nuid": "4f4112c0-fee7-488b-82c6-769a51ff4cf9",
     "showTitle": false,
     "title": ""
    }
   },
   "source": [
    "## Implementation"
   ]
  },
  {
   "cell_type": "markdown",
   "metadata": {
    "application/vnd.databricks.v1+cell": {
     "cellMetadata": {},
     "inputWidgets": {},
     "nuid": "a88d0493-8176-4853-9bec-bf705e09ec77",
     "showTitle": false,
     "title": ""
    }
   },
   "source": [
    "### Extract Data\n",
    "Extract data from Financial Modelling Prep API"
   ]
  },
  {
   "cell_type": "code",
   "execution_count": null,
   "metadata": {
    "application/vnd.databricks.v1+cell": {
     "cellMetadata": {
      "byteLimit": 2048000,
      "rowLimit": 10000
     },
     "inputWidgets": {},
     "nuid": "e1ecbcac-7e9f-4b1e-a001-961461cf5cf1",
     "showTitle": false,
     "title": ""
    }
   },
   "outputs": [],
   "source": [
    "%pip install -r requirements.txt"
   ]
  },
  {
   "cell_type": "code",
   "execution_count": 65,
   "metadata": {
    "application/vnd.databricks.v1+cell": {
     "cellMetadata": {
      "byteLimit": 2048000,
      "rowLimit": 10000
     },
     "inputWidgets": {},
     "nuid": "7fb1eab8-8d42-4c05-b8dd-2146fc2d5e77",
     "showTitle": false,
     "title": ""
    }
   },
   "outputs": [],
   "source": [
    "import os\n",
    "from dotenv import load_dotenv\n",
    "import ssl\n",
    "from urllib.request import urlopen\n",
    "import numpy as np\n",
    "import datetime as dt\n",
    "import pandas as pd\n",
    "import matplotlib.pyplot as plt\n",
    "import json\n",
    "from datetime import datetime, timedelta\n",
    "\n",
    "load_dotenv()\n",
    "API_KEY = os.getenv('API_KEY')\n",
    "base_url = \"https://financialmodelingprep.com/api/v3\""
   ]
  },
  {
   "cell_type": "code",
   "execution_count": 68,
   "metadata": {
    "application/vnd.databricks.v1+cell": {
     "cellMetadata": {},
     "inputWidgets": {},
     "nuid": "2e6c5ef3-ae33-4a35-a376-aaa9e5b799a5",
     "showTitle": false,
     "title": ""
    }
   },
   "outputs": [],
   "source": [
    "def get_jsonparsed_data(url):\n",
    "    \"\"\"\n",
    "    Receive the content of ``url``, parse it as JSON and return the object.\n",
    "\n",
    "    Parameters\n",
    "    ----------\n",
    "    url : str\n",
    "\n",
    "    Returns\n",
    "    -------\n",
    "    dict\n",
    "    \"\"\"\n",
    "    context = ssl.create_default_context()\n",
    "    response = urlopen(url, context=context)\n",
    "    data = response.read().decode(\"utf-8\")\n",
    "    return json.loads(data)"
   ]
  },
  {
   "cell_type": "code",
   "execution_count": 69,
   "metadata": {
    "application/vnd.databricks.v1+cell": {
     "cellMetadata": {
      "byteLimit": 2048000,
      "rowLimit": 10000
     },
     "inputWidgets": {},
     "nuid": "c2d50ed5-c2a1-4e2b-93aa-4e4008563cbd",
     "showTitle": false,
     "title": ""
    }
   },
   "outputs": [],
   "source": [
    "def get_historical_price_full(stickers, file_path):\n",
    "    \"\"\"\n",
    "    Extract historical 1yr daily price for stock stickers, and save to json file with file_path\n",
    "\n",
    "    Parameters:\n",
    "      stickers (list): list of stock stickers\n",
    "      file_path (str): json data file\n",
    "\n",
    "    Returns:\n",
    "      Json object of historical stock prices of all stocks in the list\n",
    "    \"\"\"\n",
    "    stickers_str = ','.join(stickers)\n",
    "\n",
    "    url = (f\"{base_url}/historical-price-full/{stickers_str}?apikey={API_KEY}\")\n",
    "\n",
    "    data = get_jsonparsed_data(url)\n",
    "\n",
    "    with open(file_path, \"w\") as f:\n",
    "        if len(stickers) == 1:\n",
    "          json.dump(data, f)   \n",
    "        else:\n",
    "          json.dump(data[\"historicalStockList\"], f)\n",
    "\n",
    "    return data\n",
    "\n",
    "def get_historical_price(stock, start_date, end_date):\n",
    "    \"\"\"\n",
    "    Extract historical daily price for 1 stock, and save to json file with file_path\n",
    "\n",
    "    Parameters:\n",
    "      stocks (list): list of stocks\n",
    "      file_path (str): json data file\n",
    "\n",
    "    Returns:\n",
    "      Json object of historical stock prices of all stocks in the list\n",
    "    \"\"\"\n",
    "\n",
    "    url = (f\"{base_url}/historical-price-full/{stock}?from={start_date}&to={end_date}&apikey={API_KEY}\")\n",
    "\n",
    "    data = get_jsonparsed_data(url)\n",
    "\n",
    "    \n",
    "    directory = f\"data/{stock}/\"\n",
    "    file_name = f\"{start_date}_{end_date}.json\"\n",
    "    file_path = directory + file_name\n",
    "\n",
    "    # Create the directory if it does not already exist\n",
    "    if not os.path.exists(directory):\n",
    "        os.makedirs(directory)\n",
    "        print(f\"Directory '{directory}' created.\")\n",
    "    else:\n",
    "        print(f\"Directory '{directory}' already exists.\")\n",
    "\n",
    "    with open(file_path, \"w\") as f:\n",
    "      json.dump(data, f)\n",
    "\n",
    "    return data\n",
    "\n",
    "def get_quote(stocks, file_path):\n",
    "    \"\"\"\n",
    "    Extract current price for stock, and save to json file with file_path\n",
    "\n",
    "    Parameters:\n",
    "      stocks (list): list of stock stocks\n",
    "      file_path (str): json data file\n",
    "\n",
    "    Returns:\n",
    "      Json object of historical stock prices of all stocks in the list\n",
    "    \"\"\"\n",
    "    stocks_str = ','.join(stocks)\n",
    "\n",
    "    url = (f\"{base_url}/quote/{stocks_str}?apikey={API_KEY}\")\n",
    "\n",
    "    data = get_jsonparsed_data(url)\n",
    "\n",
    "    with open(file_path, \"w\") as f:\n",
    "        json.dump(data, f)   \n",
    "    return data"
   ]
  },
  {
   "cell_type": "markdown",
   "metadata": {
    "application/vnd.databricks.v1+cell": {
     "cellMetadata": {},
     "inputWidgets": {},
     "nuid": "87b77079-b2ef-41fa-9983-79e45d3a1e6d",
     "showTitle": false,
     "title": ""
    }
   },
   "source": [
    "### Process Data"
   ]
  },
  {
   "cell_type": "code",
   "execution_count": 70,
   "metadata": {
    "application/vnd.databricks.v1+cell": {
     "cellMetadata": {
      "byteLimit": 2048000,
      "rowLimit": 10000
     },
     "inputWidgets": {},
     "nuid": "6efea511-5dfc-4f04-8823-9806f960369d",
     "showTitle": false,
     "title": ""
    }
   },
   "outputs": [],
   "source": [
    "def get_json_data(file_path):\n",
    "  # open the JSON file\n",
    "  with open(file_path, 'r') as f:\n",
    "      # load the JSON object into a Python object\n",
    "      json_obj = json.load(f)\n",
    "\n",
    "  columns = list(json_obj['historical'][0].keys())\n",
    "  df = pd.DataFrame(columns=['symbol'] + columns)\n",
    "  symbol = json_obj['symbol']\n",
    "  historical = json_obj['historical']\n",
    "  data = pd.DataFrame(historical, columns=columns)\n",
    "  data.insert(0, 'symbol', symbol)\n",
    "  df = pd.concat([df, data])\n",
    "  return df\n",
    "\n",
    "def get_data(file_path):\n",
    "  \"\"\"\n",
    "  Return a cleaned pandas dataframe of historical full stock price information from json file\n",
    "  \"\"\"\n",
    "  df = pd.read_json(file_path)\n",
    "  # use explode to split a list to multiple rows\n",
    "  explode_df = df.explode('historical')\n",
    "  # use apply and pd.Series to split dictionary column into multiple columns\n",
    "  normalize_df = explode_df['historical'].apply(pd.Series)\n",
    "  # concatenate 'symbol' column to the normalized_df by column (axis=1)\n",
    "  df_final = pd.concat([explode_df['symbol'], normalize_df], axis=1)\n",
    "  return df_final\n"
   ]
  },
  {
   "cell_type": "markdown",
   "metadata": {
    "application/vnd.databricks.v1+cell": {
     "cellMetadata": {},
     "inputWidgets": {},
     "nuid": "6aff638e-11d1-4d0f-be69-dc556831c3ff",
     "showTitle": false,
     "title": ""
    }
   },
   "source": [
    "### Modern Portfolio Theory"
   ]
  },
  {
   "cell_type": "code",
   "execution_count": 71,
   "metadata": {
    "application/vnd.databricks.v1+cell": {
     "cellMetadata": {},
     "inputWidgets": {},
     "nuid": "ea0b2b09-a1c5-4f61-bfa8-2e49121669f6",
     "showTitle": false,
     "title": ""
    }
   },
   "outputs": [],
   "source": [
    "def cal_return(df):\n",
    "  \"\"\"\n",
    "  Return a pandas dataframe of adjusted close price for each stock sticker\n",
    "  \"\"\"\n",
    "  pivot_df = df.pivot(index = 'date', columns='symbol', values = 'adjClose')\n",
    "  returns = pivot_df.pct_change()\n",
    "  mean_returns = returns.mean()\n",
    "  cov_matrix = returns.cov()\n",
    "  return pivot_df, mean_returns, cov_matrix\n",
    "  \n",
    "def cal_portfolio_performance(weights, mean_returns, cov_matrix):\n",
    "  \"\"\"\n",
    "  Given porfolio weight, calculate portfolio return and standard deviatzion based on modern portfolio theory\n",
    "  \n",
    "  Parameters: \n",
    "    mean_returns\n",
    "    cov_matrix\n",
    "    weights (numpy array): array of weights for each stock sticker\n",
    "\n",
    "  Returns:\n",
    "    portfolio_return (float):  Sum(mean_returns * weights) * trading_days\n",
    "    porfolio_std (float):  weights_transposed * cov_matrix * weights\n",
    "  \"\"\"\n",
    "  trading_days = 252\n",
    "  portfolio_returns = round(np.sum(mean_returns * weights) * trading_days, 4)\n",
    "  portfolio_std = round(np.sqrt( np.dot(weights.T, np.dot(cov_matrix, weights)) ), 4)\n",
    "  return portfolio_returns, portfolio_std"
   ]
  },
  {
   "cell_type": "markdown",
   "metadata": {
    "application/vnd.databricks.v1+cell": {
     "cellMetadata": {},
     "inputWidgets": {},
     "nuid": "c05aae0f-6529-4346-9292-1ffb261c72fc",
     "showTitle": false,
     "title": ""
    }
   },
   "source": [
    "### Monte Carlo Simulation"
   ]
  },
  {
   "cell_type": "code",
   "execution_count": 72,
   "metadata": {
    "application/vnd.databricks.v1+cell": {
     "cellMetadata": {},
     "inputWidgets": {},
     "nuid": "b47d044b-b84c-4013-83cd-2e986de30dee",
     "showTitle": false,
     "title": ""
    }
   },
   "outputs": [],
   "source": [
    "def cal_portfolio_metrics(weights, mean_returns, cov_matrix, risk_free_rate = 0.0, index=0):\n",
    "    \n",
    "    '''\n",
    "    This function generates the relative performance metrics that will be reported and will be used\n",
    "    to find the optimal weights.\n",
    "    \n",
    "    Parameters\n",
    "    ---\n",
    "    weights (numpy array): initialized weights or optimal weights for performance reporting\n",
    "    cov_matrix (pd dataframe): covariance matrix of stock ,\n",
    "    risk_free_rate (float): risk free rate such as t-bill, default is 0.0\n",
    "\n",
    "    Returns\n",
    "    ---\n",
    "    pandas dataframe of a portfolio performance\n",
    "    '''   \n",
    "    portfolio_returns, portfolio_std = cal_portfolio_performance(weights, mean_returns, cov_matrix)\n",
    "    sharpe = (portfolio_returns - risk_free_rate)/portfolio_std\n",
    "    df = pd.DataFrame({\"Expected Return\": portfolio_returns,\n",
    "                       \"Portfolio Variance\":portfolio_std**2,\n",
    "                       'Portfolio Std': portfolio_std,\n",
    "                       'Sharpe Ratio': sharpe}, index=[index])\n",
    "    return df"
   ]
  },
  {
   "attachments": {},
   "cell_type": "markdown",
   "metadata": {
    "application/vnd.databricks.v1+cell": {
     "cellMetadata": {},
     "inputWidgets": {},
     "nuid": "6e84bf9b-5598-48e9-b393-bb37528e4f2a",
     "showTitle": false,
     "title": ""
    }
   },
   "source": [
    "## Main"
   ]
  },
  {
   "attachments": {},
   "cell_type": "markdown",
   "metadata": {},
   "source": [
    "Extract 10 years of historical stock price data"
   ]
  },
  {
   "cell_type": "code",
   "execution_count": 73,
   "metadata": {},
   "outputs": [
    {
     "name": "stdout",
     "output_type": "stream",
     "text": [
      "Directory 'data/AAPL/' already exists.\n",
      "Directory 'data/MSFT/' already exists.\n",
      "Directory 'data/TSLA/' already exists.\n",
      "Directory 'data/AMD/' already exists.\n",
      "Directory 'data/AMZN/' already exists.\n",
      "Directory 'data/GOOG/' created.\n"
     ]
    }
   ],
   "source": [
    "stocks = [\"AAPL\", \"MSFT\", \"TSLA\", \"AMD\", \"AMZN\", \"GOOG\"]\n",
    "end_date = datetime.now().date()\n",
    "start_date = end_date - timedelta(days=3650)\n",
    "risk_free_rate = 0.05\n",
    "\n",
    "for stock in stocks:\n",
    "    get_historical_price(stock, start_date, end_date)"
   ]
  },
  {
   "cell_type": "code",
   "execution_count": 74,
   "metadata": {},
   "outputs": [],
   "source": [
    "\n",
    "df = pd.DataFrame()\n",
    "for stock in stocks:\n",
    "    file_path = f\"data/{stock}/{start_date}_{end_date}.json\"\n",
    "    pdf = get_json_data(file_path)\n",
    "    df = pd.concat([df, pdf], axis = 0)"
   ]
  },
  {
   "cell_type": "code",
   "execution_count": 95,
   "metadata": {
    "application/vnd.databricks.v1+cell": {
     "cellMetadata": {},
     "inputWidgets": {},
     "nuid": "2df0d70e-e7ed-448b-ba72-9c710ab02a40",
     "showTitle": false,
     "title": ""
    }
   },
   "outputs": [
    {
     "data": {
      "text/html": [
       "<div>\n",
       "<style scoped>\n",
       "    .dataframe tbody tr th:only-of-type {\n",
       "        vertical-align: middle;\n",
       "    }\n",
       "\n",
       "    .dataframe tbody tr th {\n",
       "        vertical-align: top;\n",
       "    }\n",
       "\n",
       "    .dataframe thead th {\n",
       "        text-align: right;\n",
       "    }\n",
       "</style>\n",
       "<table border=\"1\" class=\"dataframe\">\n",
       "  <thead>\n",
       "    <tr style=\"text-align: right;\">\n",
       "      <th>symbol</th>\n",
       "      <th>AAPL</th>\n",
       "      <th>AMD</th>\n",
       "      <th>AMZN</th>\n",
       "      <th>GOOG</th>\n",
       "      <th>MSFT</th>\n",
       "      <th>TSLA</th>\n",
       "    </tr>\n",
       "    <tr>\n",
       "      <th>date</th>\n",
       "      <th></th>\n",
       "      <th></th>\n",
       "      <th></th>\n",
       "      <th></th>\n",
       "      <th></th>\n",
       "      <th></th>\n",
       "    </tr>\n",
       "  </thead>\n",
       "  <tbody>\n",
       "    <tr>\n",
       "      <th>2013-06-05</th>\n",
       "      <td>13.801541</td>\n",
       "      <td>3.910000</td>\n",
       "      <td>13.358500</td>\n",
       "      <td>21.412243</td>\n",
       "      <td>28.982716</td>\n",
       "      <td>6.358000</td>\n",
       "    </tr>\n",
       "    <tr>\n",
       "      <th>2013-06-06</th>\n",
       "      <td>13.595348</td>\n",
       "      <td>3.940000</td>\n",
       "      <td>13.391500</td>\n",
       "      <td>21.535280</td>\n",
       "      <td>29.132713</td>\n",
       "      <td>6.490000</td>\n",
       "    </tr>\n",
       "    <tr>\n",
       "      <th>2013-06-07</th>\n",
       "      <td>13.699220</td>\n",
       "      <td>3.910000</td>\n",
       "      <td>13.843500</td>\n",
       "      <td>21.911121</td>\n",
       "      <td>29.724371</td>\n",
       "      <td>6.802667</td>\n",
       "    </tr>\n",
       "    <tr>\n",
       "      <th>2013-06-10</th>\n",
       "      <td>13.608677</td>\n",
       "      <td>4.060000</td>\n",
       "      <td>14.053500</td>\n",
       "      <td>22.172392</td>\n",
       "      <td>29.557713</td>\n",
       "      <td>6.670000</td>\n",
       "    </tr>\n",
       "    <tr>\n",
       "      <th>2013-06-11</th>\n",
       "      <td>13.568680</td>\n",
       "      <td>3.960000</td>\n",
       "      <td>13.739000</td>\n",
       "      <td>21.913115</td>\n",
       "      <td>29.032707</td>\n",
       "      <td>6.298000</td>\n",
       "    </tr>\n",
       "    <tr>\n",
       "      <th>...</th>\n",
       "      <td>...</td>\n",
       "      <td>...</td>\n",
       "      <td>...</td>\n",
       "      <td>...</td>\n",
       "      <td>...</td>\n",
       "      <td>...</td>\n",
       "    </tr>\n",
       "    <tr>\n",
       "      <th>2023-05-26</th>\n",
       "      <td>175.429993</td>\n",
       "      <td>127.029999</td>\n",
       "      <td>120.110001</td>\n",
       "      <td>125.430000</td>\n",
       "      <td>332.890015</td>\n",
       "      <td>193.169998</td>\n",
       "    </tr>\n",
       "    <tr>\n",
       "      <th>2023-05-30</th>\n",
       "      <td>177.300003</td>\n",
       "      <td>125.269997</td>\n",
       "      <td>121.660004</td>\n",
       "      <td>124.639999</td>\n",
       "      <td>331.209991</td>\n",
       "      <td>201.160004</td>\n",
       "    </tr>\n",
       "    <tr>\n",
       "      <th>2023-05-31</th>\n",
       "      <td>177.250000</td>\n",
       "      <td>118.209999</td>\n",
       "      <td>120.580002</td>\n",
       "      <td>123.370003</td>\n",
       "      <td>328.390015</td>\n",
       "      <td>203.929993</td>\n",
       "    </tr>\n",
       "    <tr>\n",
       "      <th>2023-06-01</th>\n",
       "      <td>180.089996</td>\n",
       "      <td>119.470001</td>\n",
       "      <td>122.769997</td>\n",
       "      <td>124.370003</td>\n",
       "      <td>332.579987</td>\n",
       "      <td>207.520004</td>\n",
       "    </tr>\n",
       "    <tr>\n",
       "      <th>2023-06-02</th>\n",
       "      <td>180.949997</td>\n",
       "      <td>117.860001</td>\n",
       "      <td>124.250000</td>\n",
       "      <td>125.230003</td>\n",
       "      <td>335.399994</td>\n",
       "      <td>213.970001</td>\n",
       "    </tr>\n",
       "  </tbody>\n",
       "</table>\n",
       "<p>2517 rows × 6 columns</p>\n",
       "</div>"
      ],
      "text/plain": [
       "symbol            AAPL         AMD        AMZN        GOOG        MSFT   \n",
       "date                                                                     \n",
       "2013-06-05   13.801541    3.910000   13.358500   21.412243   28.982716  \\\n",
       "2013-06-06   13.595348    3.940000   13.391500   21.535280   29.132713   \n",
       "2013-06-07   13.699220    3.910000   13.843500   21.911121   29.724371   \n",
       "2013-06-10   13.608677    4.060000   14.053500   22.172392   29.557713   \n",
       "2013-06-11   13.568680    3.960000   13.739000   21.913115   29.032707   \n",
       "...                ...         ...         ...         ...         ...   \n",
       "2023-05-26  175.429993  127.029999  120.110001  125.430000  332.890015   \n",
       "2023-05-30  177.300003  125.269997  121.660004  124.639999  331.209991   \n",
       "2023-05-31  177.250000  118.209999  120.580002  123.370003  328.390015   \n",
       "2023-06-01  180.089996  119.470001  122.769997  124.370003  332.579987   \n",
       "2023-06-02  180.949997  117.860001  124.250000  125.230003  335.399994   \n",
       "\n",
       "symbol            TSLA  \n",
       "date                    \n",
       "2013-06-05    6.358000  \n",
       "2013-06-06    6.490000  \n",
       "2013-06-07    6.802667  \n",
       "2013-06-10    6.670000  \n",
       "2013-06-11    6.298000  \n",
       "...                ...  \n",
       "2023-05-26  193.169998  \n",
       "2023-05-30  201.160004  \n",
       "2023-05-31  203.929993  \n",
       "2023-06-01  207.520004  \n",
       "2023-06-02  213.970001  \n",
       "\n",
       "[2517 rows x 6 columns]"
      ]
     },
     "metadata": {},
     "output_type": "display_data"
    }
   ],
   "source": [
    "pivot_df, mean_returns, cov_matrix = cal_return(df)\n",
    "display(pivot_df)"
   ]
  },
  {
   "cell_type": "code",
   "execution_count": 89,
   "metadata": {
    "application/vnd.databricks.v1+cell": {
     "cellMetadata": {},
     "inputWidgets": {},
     "nuid": "0f948758-8edc-4661-9427-d722a729ff99",
     "showTitle": false,
     "title": ""
    }
   },
   "outputs": [],
   "source": [
    "def simulate_portfolios( mean_returns, cov_matrix, risk_free_rate=0.0, n=100):\n",
    "    \"\"\"\n",
    "    Given the historical mean_returns and cov_matrix of the portfolio, as well as the risk_free_rate\n",
    "    Simulate n portfolios with different weights and performance\n",
    "\n",
    "    Parameters\n",
    "    ---\n",
    "    mean_returns (float): historical mean_returns\n",
    "    cov_matrix (pd dataframe): covariance matrix of stock ,\n",
    "    risk_free_rate (float): risk free rate such as t-bill, default is 0.0\n",
    "    n: number of simulations, default is 100\n",
    "\n",
    "    Returns\n",
    "    ---\n",
    "    portfolios (pandas dataframe): pandas dataframe of n portfolios and their expected performances\n",
    "    \"\"\"\n",
    "    np.random.seed(42)\n",
    "    #Empty Container\n",
    "    portfolios = pd.DataFrame(columns=[*stocks, \"Expected Return\",\"Portfolio Variance\", \"Portfolio Std\", \"Sharpe Ratio\"])\n",
    "    #Loop\n",
    "    for i in range(n):\n",
    "        weights = np.random.random(len(stocks))\n",
    "        weights /= np.sum(weights)\n",
    "        portfolios.loc[i, stocks] = weights\n",
    "        metrics = cal_portfolio_metrics(weights, mean_returns, cov_matrix, risk_free_rate = risk_free_rate, index=i)\n",
    "        # print(metrics)\n",
    "        portfolios.loc[i, [\"Expected Return\",\"Portfolio Variance\", \"Portfolio Std\", \"Sharpe Ratio\"]] \\\n",
    "            = metrics.loc[i,[\"Expected Return\",\"Portfolio Variance\", \"Portfolio Std\", \"Sharpe Ratio\"]]\n",
    "        \n",
    "    return portfolios\n"
   ]
  },
  {
   "cell_type": "code",
   "execution_count": 79,
   "metadata": {},
   "outputs": [],
   "source": [
    "portfolios = simulate_portfolios(mean_returns, cov_matrix, risk_free_rate=risk_free_rate, n=10000)"
   ]
  },
  {
   "attachments": {},
   "cell_type": "markdown",
   "metadata": {},
   "source": [
    "### Efficient Frontier of Expected Return and Portfolio Standard deviation"
   ]
  },
  {
   "cell_type": "code",
   "execution_count": 80,
   "metadata": {},
   "outputs": [
    {
     "data": {
      "image/png": "[encoded data removed]",
      "text/plain": [
       "<Figure size 1000x600 with 2 Axes>"
      ]
     },
     "metadata": {},
     "output_type": "display_data"
    }
   ],
   "source": [
    "# Extract the expected returns and portfolio standard deviations\n",
    "expected_returns = portfolios[\"Expected Return\"].astype(float)\n",
    "portfolio_std = portfolios[\"Portfolio Std\"].astype(float)\n",
    "sharpe_ratio = portfolios[\"Sharpe Ratio\"].astype(float)\n",
    "\n",
    "# Find the point with the lowest portfolio standard deviation\n",
    "min_std_index = portfolio_std.idxmin()\n",
    "min_std_std, min_std_return = portfolio_std[min_std_index], expected_returns[min_std_index] \n",
    "\n",
    "# Find the point with the highest expected return\n",
    "max_return_index = expected_returns.idxmax()\n",
    "max_return_std, max_return_return = portfolio_std[max_return_index], expected_returns[max_return_index] \n",
    "\n",
    "# Find the point with the lowest expected return\n",
    "min_return_index = expected_returns.idxmin()\n",
    "min_return_std, min_return_return = portfolio_std[min_return_index], expected_returns[min_return_index] \n",
    "\n",
    "# Find the point with the max Sharpe Ratio\n",
    "max_sharpe_index = sharpe_ratio.idxmax()\n",
    "max_sharpe_std, max_sharpe_return = portfolio_std[max_sharpe_index], expected_returns[max_sharpe_index] \n",
    "\n",
    "plt.figure(figsize=(10, 6))\n",
    "plt.scatter(portfolios[\"Portfolio Std\"], portfolios[\"Expected Return\"], c=portfolios[\"Sharpe Ratio\"], cmap=\"viridis\", alpha=0.8)\n",
    "plt.scatter(max_sharpe_std, max_sharpe_return, color='red', marker='o',label='Max Sharpe Ratio' )\n",
    "plt.xlabel(\"Portfolio Std\")\n",
    "plt.ylabel(\"Expected Return\")\n",
    "plt.title(\"Modern Portfolio Theory\")\n",
    "plt.colorbar(label=\"Sharpe Ratio\")\n",
    "plt.grid(True)\n",
    "plt.show()"
   ]
  },
  {
   "attachments": {},
   "cell_type": "markdown",
   "metadata": {},
   "source": [
    "### Identify the portfolio with highest Sharpe Ratio"
   ]
  },
  {
   "cell_type": "code",
   "execution_count": 81,
   "metadata": {},
   "outputs": [
    {
     "data": {
      "text/html": [
       "<div>\n",
       "<style scoped>\n",
       "    .dataframe tbody tr th:only-of-type {\n",
       "        vertical-align: middle;\n",
       "    }\n",
       "\n",
       "    .dataframe tbody tr th {\n",
       "        vertical-align: top;\n",
       "    }\n",
       "\n",
       "    .dataframe thead th {\n",
       "        text-align: right;\n",
       "    }\n",
       "</style>\n",
       "<table border=\"1\" class=\"dataframe\">\n",
       "  <thead>\n",
       "    <tr style=\"text-align: right;\">\n",
       "      <th></th>\n",
       "      <th>AAPL</th>\n",
       "      <th>MSFT</th>\n",
       "      <th>TSLA</th>\n",
       "      <th>AMD</th>\n",
       "      <th>AMZN</th>\n",
       "      <th>GOOG</th>\n",
       "      <th>Expected Return</th>\n",
       "      <th>Portfolio Variance</th>\n",
       "      <th>Portfolio Std</th>\n",
       "      <th>Sharpe Ratio</th>\n",
       "    </tr>\n",
       "  </thead>\n",
       "  <tbody>\n",
       "    <tr>\n",
       "      <th>3710</th>\n",
       "      <td>0.296501</td>\n",
       "      <td>0.205096</td>\n",
       "      <td>0.056299</td>\n",
       "      <td>0.005315</td>\n",
       "      <td>0.244698</td>\n",
       "      <td>0.192091</td>\n",
       "      <td>0.3769</td>\n",
       "      <td>0.00035</td>\n",
       "      <td>0.0187</td>\n",
       "      <td>17.481283</td>\n",
       "    </tr>\n",
       "  </tbody>\n",
       "</table>\n",
       "</div>"
      ],
      "text/plain": [
       "          AAPL      MSFT      TSLA       AMD      AMZN      GOOG   \n",
       "3710  0.296501  0.205096  0.056299  0.005315  0.244698  0.192091  \\\n",
       "\n",
       "     Expected Return Portfolio Variance Portfolio Std Sharpe Ratio  \n",
       "3710          0.3769            0.00035        0.0187    17.481283  "
      ]
     },
     "execution_count": 81,
     "metadata": {},
     "output_type": "execute_result"
    }
   ],
   "source": [
    "portfolios[portfolios[\"Sharpe Ratio\"]==portfolios[\"Sharpe Ratio\"].max()]"
   ]
  },
  {
   "attachments": {},
   "cell_type": "markdown",
   "metadata": {},
   "source": [
    "The optimal portfolio weights with highest Sharpe Ratio has 29% Apple, 24% Amazon, 20% Microsoft and 19% Google"
   ]
  },
  {
   "attachments": {},
   "cell_type": "markdown",
   "metadata": {},
   "source": [
    "### Identify the portfolio with lowest Volatility"
   ]
  },
  {
   "cell_type": "code",
   "execution_count": 82,
   "metadata": {},
   "outputs": [
    {
     "data": {
      "text/html": [
       "<div>\n",
       "<style scoped>\n",
       "    .dataframe tbody tr th:only-of-type {\n",
       "        vertical-align: middle;\n",
       "    }\n",
       "\n",
       "    .dataframe tbody tr th {\n",
       "        vertical-align: top;\n",
       "    }\n",
       "\n",
       "    .dataframe thead th {\n",
       "        text-align: right;\n",
       "    }\n",
       "</style>\n",
       "<table border=\"1\" class=\"dataframe\">\n",
       "  <thead>\n",
       "    <tr style=\"text-align: right;\">\n",
       "      <th></th>\n",
       "      <th>AAPL</th>\n",
       "      <th>MSFT</th>\n",
       "      <th>TSLA</th>\n",
       "      <th>AMD</th>\n",
       "      <th>AMZN</th>\n",
       "      <th>GOOG</th>\n",
       "      <th>Expected Return</th>\n",
       "      <th>Portfolio Variance</th>\n",
       "      <th>Portfolio Std</th>\n",
       "      <th>Sharpe Ratio</th>\n",
       "    </tr>\n",
       "  </thead>\n",
       "  <tbody>\n",
       "    <tr>\n",
       "      <th>552</th>\n",
       "      <td>0.339808</td>\n",
       "      <td>0.00401</td>\n",
       "      <td>0.104358</td>\n",
       "      <td>0.317235</td>\n",
       "      <td>0.232042</td>\n",
       "      <td>0.002547</td>\n",
       "      <td>0.2677</td>\n",
       "      <td>0.000234</td>\n",
       "      <td>0.0153</td>\n",
       "      <td>14.228758</td>\n",
       "    </tr>\n",
       "  </tbody>\n",
       "</table>\n",
       "</div>"
      ],
      "text/plain": [
       "         AAPL     MSFT      TSLA       AMD      AMZN      GOOG   \n",
       "552  0.339808  0.00401  0.104358  0.317235  0.232042  0.002547  \\\n",
       "\n",
       "    Expected Return Portfolio Variance Portfolio Std Sharpe Ratio  \n",
       "552          0.2677           0.000234        0.0153    14.228758  "
      ]
     },
     "execution_count": 82,
     "metadata": {},
     "output_type": "execute_result"
    }
   ],
   "source": [
    "portfolios[portfolios[\"Portfolio Std\"]==portfolios[\"Portfolio Std\"].min()]"
   ]
  },
  {
   "attachments": {},
   "cell_type": "markdown",
   "metadata": {},
   "source": [
    "# Reference\n",
    "1. https://ocw.mit.edu/courses/6-0002-introduction-to-computational-thinking-and-data-science-fall-2016/\n",
    "2. https://www.investopedia.com/terms/m/modernportfoliotheory.asp\n",
    "3. https://quantpy.com.au/category/monte-carlo/\n",
    "\n"
   ]
  }
 ],
 "metadata": {
  "application/vnd.databricks.v1+notebook": {
   "dashboards": [],
   "language": "python",
   "notebookMetadata": {
    "mostRecentlyExecutedCommandWithImplicitDF": {
     "commandId": 138371607180041,
     "dataframes": [
      "_sqldf"
     ]
    },
    "pythonIndentUnit": 2
   },
   "notebookName": "monte_carlo",
   "notebookOrigID": 2845657614904208,
   "widgets": {}
  },
  "kernelspec": {
   "display_name": "Python 3",
   "language": "python",
   "name": "python3"
  },
  "language_info": {
   "codemirror_mode": {
    "name": "ipython",
    "version": 3
   },
   "file_extension": ".py",
   "mimetype": "text/x-python",
   "name": "python",
   "nbconvert_exporter": "python",
   "pygments_lexer": "ipython3",
   "version": "3.10.11"
  }
 },
 "nbformat": 4,
 "nbformat_minor": 0
}

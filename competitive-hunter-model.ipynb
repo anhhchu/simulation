{
 "cells": [
  {
   "cell_type": "markdown",
   "metadata": {
    "application/vnd.databricks.v1+cell": {
     "cellMetadata": {},
     "inputWidgets": {},
     "nuid": "9819539a-5a54-41dd-abb1-17b362cff3a7",
     "showTitle": false,
     "title": ""
    }
   },
   "source": [
    "# Competive Hunter Model - Tigers and Dinosaurs"
   ]
  },
  {
   "cell_type": "markdown",
   "metadata": {
    "application/vnd.databricks.v1+cell": {
     "cellMetadata": {},
     "inputWidgets": {},
     "nuid": "f56dbb96-3aab-46d6-b10d-5fc88a41bb6a",
     "showTitle": false,
     "title": ""
    }
   },
   "source": [
    "## Abstract\n",
    "\n",
    "Tigers and dinosaurs are generally “competitive species” (as opposed to predator-prey). \n",
    "Although on rare occasions they may prey on each other (especially trying to gang up on the newborn), for the most part they share the same territory and often fight over prey."
   ]
  },
  {
   "cell_type": "markdown",
   "metadata": {
    "application/vnd.databricks.v1+cell": {
     "cellMetadata": {},
     "inputWidgets": {},
     "nuid": "3bc25226-bcb9-4309-9414-5ac56461f437",
     "showTitle": false,
     "title": ""
    }
   },
   "source": [
    "## Introduction\n",
    "\n",
    "Changes in population of Tiger and Dinosaur are depicted as below: \n",
    "\n",
    "$$\\frac {dT}{dt} = k_1T - k_3TD$$\n",
    "\n",
    "$$\\frac {dD}{dt} = k_2D - k_4TD$$\n",
    "\n",
    "where \n",
    "* T: population of Tiger\n",
    "* D: population of Dinosaur\n",
    "* k1: birth rate of Tiger\n",
    "* k2: birth rate of Dinosaur\n",
    "* k3: death rate of Tiger\n",
    "* k4: death rate of Dinosaur\n",
    "\n",
    "#### 1. Derive equations for the equilibrium values of the two populations as a function of the four constants​. \n",
    "\n",
    "At equilibrium: T = Tn, D = Dn. That means the pouplation of tigers and dinosaurs are constant over time, or dT/dt = 0 and dD/dt = 0\n",
    "\n",
    "$$\\frac {dT}{dt} = k_1T - k_3TD = 0 $$\n",
    "\n",
    "$$\\frac {dD}{dt} = k_2D - k_4TD = 0 $$\n",
    "\n",
    "Then, we have:\n",
    "\n",
    "$$T = \\frac{k_2}{k_4}$$\n",
    "\n",
    "$$D = \\frac{k_1}{k_3}$$\n",
    "\n",
    "\n",
    "#### 2. Derive closed-form, analytical solutions for the two differential equations under the assumption that the death rates are zero​ \n",
    "\n",
    "If we assume that the death rates of both species are zero, then the differential equations become:\n",
    "\n",
    "$$\\frac {dT}{dt} = k_1T$$\n",
    "\n",
    "$$\\frac {dD}{dt} = k_2D$$\n",
    "\n",
    "##### a. For tiger population:\n",
    "\n",
    "dT/dt = k1*T\n",
    "\n",
    "Separation of varables\n",
    "\n",
    "dT/T = k1*dt\n",
    "\n",
    "Integrate both sides:\n",
    "\n",
    "\\\\(ln(T) = k1*t + C\\\\)\n",
    "where C is an arbitrary constant of integration exponentiate both sides:\n",
    "\n",
    "\\\\(T = e^{(k1*t+C)}\\\\)\n",
    "\n",
    "Given T0 initial population of Tiger at time t0, we can find C as:\n",
    "\n",
    "\\\\(T_0 = Ce^{k_1*t_0}\\\\)\n",
    "\n",
    "\\\\(C = T_0/e^{k_1*t_0}\\\\)\n",
    "\n",
    "Assuming that t_0 = 0 for timestep 0, we have: \\\\(C = T_0\\\\)\n",
    "\n",
    "Therefore, we have an exponential solution for T based on T0, k1, t:\n",
    "\n",
    "\\\\(T_{anl} = T_0e^{k_1t_0}\\\\) where T0 is the initial population of Tigers\n",
    "\n",
    "##### b. For dinosaur population:\n",
    "\n",
    "\\\\(dD/dt = k2*D\\\\)\n",
    "\n",
    "Separation of varables\n",
    "\n",
    "\\\\(dD/D = k2*dt\\\\)\n",
    "\n",
    "Integrate both sides:\n",
    "\n",
    "\\\\(ln(D) = k2*t + C\\\\), where C is an arbitrary constant of integration exponentiate both sides\n",
    "\n",
    "Using similar logic to estimate population of Tiger above, we have:\n",
    "\n",
    "\\\\(D = e^{(k2*t+C)}\\\\)\n",
    "\n",
    "\\\\(D_{anl} = D_0e^{(k_2t)}\\\\) where D0 is the initial population of Dinosaurs."
   ]
  },
  {
   "cell_type": "markdown",
   "metadata": {
    "application/vnd.databricks.v1+cell": {
     "cellMetadata": {},
     "inputWidgets": {},
     "nuid": "83c880ed-ef89-48e0-89f6-de0793497543",
     "showTitle": false,
     "title": ""
    }
   },
   "source": [
    "## Verify\n",
    "\n",
    "### The first step: \n",
    "assume that death rates are zero, verify model using python and Insight Maker"
   ]
  },
  {
   "cell_type": "code",
   "execution_count": null,
   "metadata": {
    "application/vnd.databricks.v1+cell": {
     "cellMetadata": {},
     "inputWidgets": {},
     "nuid": "f9e767bc-a160-47ff-b7d9-93f4005e60ca",
     "showTitle": false,
     "title": ""
    }
   },
   "outputs": [],
   "source": [
    "k1 = 0.022\n",
    "k2 = 0.04\n",
    "k3 = 0.001\n",
    "k4 = 0.0055\n",
    "T0 = 22\n",
    "D0 = 78\n",
    "max_time = 48"
   ]
  },
  {
   "cell_type": "code",
   "execution_count": null,
   "metadata": {
    "application/vnd.databricks.v1+cell": {
     "cellMetadata": {},
     "inputWidgets": {},
     "nuid": "8751bdb8-c41e-416d-b559-da9aa1e5a49a",
     "showTitle": false,
     "title": ""
    }
   },
   "outputs": [],
   "source": [
    "import numpy as np\n",
    "\n",
    "def sol(initial_pop, birth_rate, death_rate, max_time):\n",
    "  T = np.arange(0, max_time+1)\n",
    "  population = np.zeros(max_time+1)\n",
    "  population[0] = initial_pop\n",
    "  for t in range(1, max_time+1):\n",
    "      population[t] = initial_pop * np.exp(birth_rate * t)\n",
    "\n",
    "  return T, population\n"
   ]
  },
  {
   "cell_type": "code",
   "execution_count": null,
   "metadata": {
    "application/vnd.databricks.v1+cell": {
     "cellMetadata": {},
     "inputWidgets": {},
     "nuid": "3efda348-778f-414c-a20f-99167856f0df",
     "showTitle": false,
     "title": ""
    }
   },
   "outputs": [],
   "source": [
    "time, tigers = sol(initial_pop=T0, birth_rate=k1, death_rate=0, max_time=max_time)"
   ]
  },
  {
   "cell_type": "code",
   "execution_count": null,
   "metadata": {
    "application/vnd.databricks.v1+cell": {
     "cellMetadata": {},
     "inputWidgets": {},
     "nuid": "56b507c2-5860-4b18-a5b0-7e5bf40ab7a0",
     "showTitle": false,
     "title": ""
    }
   },
   "outputs": [],
   "source": [
    "time, dinosaurs = sol(initial_pop=D0, birth_rate=k2, death_rate=0, max_time=max_time)"
   ]
  },
  {
   "cell_type": "code",
   "execution_count": null,
   "metadata": {
    "application/vnd.databricks.v1+cell": {
     "cellMetadata": {},
     "inputWidgets": {},
     "nuid": "8f0b1fc2-3ca4-42c9-a974-b02d610cf750",
     "showTitle": false,
     "title": ""
    }
   },
   "outputs": [],
   "source": [
    "import pandas as pd\n",
    "df = pd.DataFrame({'t': time, 'tigers': tigers, 'dinosaurs': dinosaurs})\n",
    "display(df)"
   ]
  },
  {
   "attachments": {},
   "cell_type": "markdown",
   "metadata": {
    "application/vnd.databricks.v1+cell": {
     "cellMetadata": {},
     "inputWidgets": {},
     "nuid": "c88f600d-ec81-49ee-813d-d8d13d352a58",
     "showTitle": false,
     "title": ""
    }
   },
   "source": [
    "Based on, InsightMaker Chart for tigers and dinosaurs population with 0 death rate:\n",
    "At time 48, we have\n",
    "* Tigers: 512\n",
    "* Dinosaurs: 62\n",
    "\n",
    "However, based on the analytics solution, we have:\n",
    "* Tigers: 63\n",
    "* Dinosaurs: 532\n",
    "\n",
    "The difference is most likely due to different methodologies. InsightMaker uses Euler method to iteratively calculate the populations at each timestep. While the analytics solution use closed-form, integration function.  \n",
    "\n",
    "![equilibrium](nodeath.png)"
   ]
  },
  {
   "cell_type": "markdown",
   "metadata": {
    "application/vnd.databricks.v1+cell": {
     "cellMetadata": {},
     "inputWidgets": {},
     "nuid": "8d36f222-f2e9-4c5a-868e-5362b1fd3cfa",
     "showTitle": false,
     "title": ""
    }
   },
   "source": [
    "### Verify 2: \n",
    "\n",
    "Verify the equilibrium of 2 populations based on these equations:\n",
    "\n",
    "$$T_{eq} = \\frac{k2}{k4}$$\n",
    "\n",
    "$$D_{eq} = \\frac{k1}{k3}$$"
   ]
  },
  {
   "cell_type": "code",
   "execution_count": null,
   "metadata": {
    "application/vnd.databricks.v1+cell": {
     "cellMetadata": {},
     "inputWidgets": {},
     "nuid": "9d9ce670-0129-47a9-be7a-f7bfdfe2da3e",
     "showTitle": false,
     "title": ""
    }
   },
   "outputs": [],
   "source": [
    "tiger_eq = k2/k4\n",
    "dinosaur_eq = k1/k3\n",
    "\n",
    "print(\"Equilibrium of tigers is: \", tiger_eq)\n",
    "print(\"Equilibrium of dinosaurs is:\", dinosaur_eq) "
   ]
  },
  {
   "attachments": {},
   "cell_type": "markdown",
   "metadata": {
    "application/vnd.databricks.v1+cell": {
     "cellMetadata": {},
     "inputWidgets": {},
     "nuid": "c164fea6-b3c9-4848-bca4-218dea2ab0b2",
     "showTitle": false,
     "title": ""
    }
   },
   "source": [
    "InsightMaker chart of equilibrium value for Tiger population at 7.27 and Dinosaurs population at 22\n",
    "\n",
    "![equilibrium](equilibrium.png)"
   ]
  },
  {
   "attachments": {},
   "cell_type": "markdown",
   "metadata": {
    "application/vnd.databricks.v1+cell": {
     "cellMetadata": {},
     "inputWidgets": {},
     "nuid": "57cee90e-1da7-4e47-abe5-aa66374779b6",
     "showTitle": false,
     "title": ""
    }
   },
   "source": [
    "InsightMaker model of competitive hunter model\n",
    "\n",
    "![competitive_model](model.svg)"
   ]
  },
  {
   "cell_type": "markdown",
   "metadata": {
    "application/vnd.databricks.v1+cell": {
     "cellMetadata": {},
     "inputWidgets": {},
     "nuid": "49965f43-834c-4a6b-839d-f2b808d7e823",
     "showTitle": false,
     "title": ""
    }
   },
   "source": [
    "# Reference\n",
    "\n",
    "https://www.mathsisfun.com/calculus/separation-variables.html\n",
    "\n",
    "https://www.mathsisfun.com/calculus/integration-introduction.html"
   ]
  }
 ],
 "metadata": {
  "application/vnd.databricks.v1+notebook": {
   "dashboards": [],
   "language": "python",
   "notebookMetadata": {
    "pythonIndentUnit": 2
   },
   "notebookName": "competitive-hunter-model",
   "notebookOrigID": 230759278619186,
   "widgets": {}
  },
  "kernelspec": {
   "display_name": "Python 3",
   "language": "python",
   "name": "python3"
  },
  "language_info": {
   "name": "python",
   "version": "3.10.11"
  }
 },
 "nbformat": 4,
 "nbformat_minor": 0
}
